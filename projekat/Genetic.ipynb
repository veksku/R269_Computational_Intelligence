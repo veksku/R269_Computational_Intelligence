{
 "cells": [
  {
   "cell_type": "markdown",
   "id": "14b519cd",
   "metadata": {},
   "source": [
    "# Genetski algoritam"
   ]
  },
  {
   "cell_type": "markdown",
   "id": "474cb3cf",
   "metadata": {},
   "source": [
    "Definisanje jedinke i metoda unutar klase jedinke\n",
    "\n",
    "Glavni metod je metod merge() koji se koristi i kao metod za merenje fitnesa i kao metod za dobijanje aproksimativne niske scs za taj niz"
   ]
  },
  {
   "cell_type": "code",
   "execution_count": 1,
   "id": "dea93c04",
   "metadata": {},
   "outputs": [],
   "source": [
    "import random\n",
    "\n",
    "class Individual:\n",
    "    def __init__(self, arr):\n",
    "        self.arr = random.sample(arr, len(arr))\n",
    "        self.scs, self.fitness = self.merge()\n",
    "    \n",
    "    def __lt__(self, other):\n",
    "        return self.fitness < other.fitness\n",
    "    \n",
    "    # Metod koji ce lepiti sve niske redom jednu uz drugu uzimajuci poklapanja u obzir\n",
    "    # Primer merge() za [bla, lad, dub] ce vratiti (bladub, 6) \n",
    "    # Za fitness se uzima upravo duzina ove spojene niske\n",
    "    def merge(self):\n",
    "        n = len(self.arr)\n",
    "        solution = self.arr[0]\n",
    "        i = 1\n",
    "        while i < n:\n",
    "            string = self.arr[i]\n",
    "            len1 = len(solution)\n",
    "            len2 = len(string)\n",
    "            max_len = 0\n",
    "            \n",
    "            for j in range(1, min(len1, len2)+1):\n",
    "                if solution.endswith(string[:j]):\n",
    "                    max_len = j\n",
    "            solution += string[max_len:]\n",
    "            i+=1\n",
    "        return solution, len(solution)\n",
    "    \n",
    "    def get_fitness(self):\n",
    "        return self.fitness"
   ]
  },
  {
   "cell_type": "markdown",
   "id": "29e78700",
   "metadata": {},
   "source": [
    "## Pomocne funkcije genetskog algoritma: selection, crossover i mutation"
   ]
  },
  {
   "cell_type": "markdown",
   "id": "708c2f77",
   "metadata": {},
   "source": [
    "Turnirska selekcija"
   ]
  },
  {
   "cell_type": "code",
   "execution_count": 2,
   "id": "9bdb8164",
   "metadata": {},
   "outputs": [],
   "source": [
    "def selection(population, tournament_size):\n",
    "    participants = random.sample(population, tournament_size)\n",
    "    winner = min(participants)\n",
    "    return winner"
   ]
  },
  {
   "cell_type": "markdown",
   "id": "05dedffa",
   "metadata": {},
   "source": [
    "Ukrstanje prvog reda"
   ]
  },
  {
   "cell_type": "code",
   "execution_count": 3,
   "id": "8976f7b5",
   "metadata": {},
   "outputs": [],
   "source": [
    "def crossover(parent1, parent2, child1, child2):\n",
    "    \n",
    "    n = len(parent1.arr)\n",
    "    segment_size = int(n/2)\n",
    "    start_index = int(random.random() * n/2)\n",
    "    end_index = start_index + segment_size\n",
    "    \n",
    "    child1.arr[start_index:end_index] = parent1.arr[start_index:end_index]\n",
    "    child2.arr[start_index:end_index] = parent2.arr[start_index:end_index]\n",
    "    \n",
    "    if(end_index == n):\n",
    "        free_index1 = 0\n",
    "        free_index2 = 0\n",
    "        \n",
    "        for i in range(n):\n",
    "            if not(contains(child1.arr[start_index:end_index], parent2.arr[i])):\n",
    "                child1.arr[free_index1] = parent2.arr[i]\n",
    "                free_index1 += 1\n",
    "            if not(contains(child2.arr[start_index:end_index], parent1.arr[i])):\n",
    "                child2.arr[free_index2] = parent1.arr[i]\n",
    "                free_index2 += 1\n",
    "    else:\n",
    "        free_index1 = end_index\n",
    "        free_index2 = end_index\n",
    "        \n",
    "        for i in range(end_index, n):\n",
    "            if not(contains(child1.arr[start_index:end_index], parent2.arr[i])):\n",
    "                child1.arr[free_index1] = parent2.arr[i]\n",
    "                free_index1 += 1\n",
    "                if free_index1 == n:\n",
    "                    free_index1 = 0\n",
    "            if not(contains(child2.arr[start_index:end_index], parent1.arr[i])):\n",
    "                child2.arr[free_index2] = parent1.arr[i]\n",
    "                free_index2 += 1\n",
    "                if free_index2 == n:\n",
    "                    free_index2 = 0\n",
    "                    \n",
    "        for i in range(end_index):\n",
    "            if not(contains(child1.arr[start_index:end_index], parent2.arr[i])):\n",
    "                child1.arr[free_index1] = parent2.arr[i]\n",
    "                free_index1 += 1\n",
    "                if free_index1 == n:\n",
    "                    free_index1 = 0\n",
    "            if not(contains(child2.arr[start_index:end_index], parent1.arr[i])):\n",
    "                child2.arr[free_index2] = parent1.arr[i]\n",
    "                free_index2 += 1\n",
    "                if free_index2 == n:\n",
    "                    free_index2 = 0"
   ]
  },
  {
   "cell_type": "markdown",
   "id": "a36c3199",
   "metadata": {},
   "source": [
    "Mutacija bazirana na swap-u"
   ]
  },
  {
   "cell_type": "code",
   "execution_count": 4,
   "id": "15388416",
   "metadata": {},
   "outputs": [],
   "source": [
    "def mutation(child, chance):\n",
    "    n = len(child.arr)\n",
    "    for i in range(n):\n",
    "        if random.random() < chance:\n",
    "            random_index = int(random.random() * n)\n",
    "            temp = child.arr[i]\n",
    "            child.arr[i] = child.arr[random_index]\n",
    "            child.arr[random_index] = temp"
   ]
  },
  {
   "cell_type": "code",
   "execution_count": 5,
   "id": "d7b80257",
   "metadata": {},
   "outputs": [],
   "source": [
    "def contains(arr1, member):\n",
    "    for element in arr1:\n",
    "        if element == member:\n",
    "            return 1\n",
    "    return 0"
   ]
  },
  {
   "cell_type": "markdown",
   "id": "61cf8df7",
   "metadata": {},
   "source": [
    "## Glavni genetski algoritam"
   ]
  },
  {
   "cell_type": "code",
   "execution_count": 6,
   "id": "f9eac430",
   "metadata": {},
   "outputs": [],
   "source": [
    "from copy import deepcopy\n",
    "import time\n",
    "\n",
    "def gp(arr, pop_size, num_iter, elite_size, mut_chance, tour_size):\n",
    "    start = time.time()\n",
    "    if (pop_size - elite_size) % 2 == 1:\n",
    "        elite_size -= 1\n",
    "        \n",
    "    population = [Individual(arr=arr) for _ in range(pop_size)]\n",
    "    new_population = [Individual(arr=arr) for _ in range(pop_size)]\n",
    "    \n",
    "    for iteration in range(num_iter):\n",
    "        population.sort(reverse=False)\n",
    "        \n",
    "        new_population[:elite_size] = population[:elite_size]\n",
    "        \n",
    "        for i in range(elite_size, pop_size, 2):\n",
    "            parent1 = selection(population, tour_size)\n",
    "            parent2 = selection(population, tour_size)\n",
    "            \n",
    "            crossover(parent1, parent2, new_population[i], new_population[i+1])\n",
    "            \n",
    "            mutation(new_population[i], mut_chance)\n",
    "            mutation(new_population[i+1], mut_chance)\n",
    "            \n",
    "            new_population[i].scs, new_population[i].fitness = new_population[i].merge()\n",
    "            new_population[i+1].scs, new_population[i+1].fitness = new_population[i+1].merge()\n",
    "        \n",
    "        population = deepcopy(new_population)\n",
    "        \n",
    "    best = min(population)\n",
    "    end = time.time()\n",
    "    delta = end-start\n",
    "    if delta < 0.0001:\n",
    "        print(\"Execution time: <0.0001 seconds.\")\n",
    "    else:\n",
    "        print(\"Execution time: \" + str(round(delta, 3)) + \" seconds.\")\n",
    "    return best.scs, len(best.scs)"
   ]
  },
  {
   "cell_type": "markdown",
   "id": "54e06597",
   "metadata": {},
   "source": [
    "Pomocne funkcije za stampanje rezultata"
   ]
  },
  {
   "cell_type": "code",
   "execution_count": 7,
   "id": "e896d2d5",
   "metadata": {},
   "outputs": [],
   "source": [
    "def print_solution(sol):\n",
    "    if len(sol) == 0:\n",
    "        print(\"Shortest superstring not found\")\n",
    "    else:\n",
    "        print(\"Found shortest superstring is: \" + sol)\n",
    "        \n",
    "def print_size(size):\n",
    "    if size == 0:\n",
    "        print(\"Shortest superstring not found\")\n",
    "    else:\n",
    "        print(\"The size of the found shortest superstring is: \" + str(size))"
   ]
  },
  {
   "cell_type": "markdown",
   "id": "bf2e397f",
   "metadata": {},
   "source": [
    "Parametri za genetski algoritam, odabrani eksperimentalno"
   ]
  },
  {
   "cell_type": "code",
   "execution_count": 8,
   "id": "f9282024",
   "metadata": {},
   "outputs": [],
   "source": [
    "# POPULATION_SIZE = 12\n",
    "# NO_OF_ITERATIONS = 2000\n",
    "# ELITISM_SIZE = 8\n",
    "# MUTATION_CHANCE = 0.005\n",
    "# TOURNAMENT_SIZE = 4\n",
    "\n",
    "POPULATION_SIZE = 30\n",
    "NO_OF_ITERATIONS = 500\n",
    "ELITISM_SIZE = 15\n",
    "MUTATION_CHANCE = 0.005\n",
    "TOURNAMENT_SIZE = 12"
   ]
  },
  {
   "cell_type": "markdown",
   "id": "417b943d",
   "metadata": {},
   "source": [
    "## Primeri"
   ]
  },
  {
   "cell_type": "markdown",
   "id": "a3e55753",
   "metadata": {},
   "source": [
    "### Primer 1\n",
    "\n",
    "Dat je niz koji sadrzi 4 niske od po 3 karaktera"
   ]
  },
  {
   "cell_type": "code",
   "execution_count": 9,
   "id": "82e272fd",
   "metadata": {},
   "outputs": [
    {
     "name": "stdout",
     "output_type": "stream",
     "text": [
      "Execution time: 0.168 seconds.\n",
      "Found shortest superstring is: BAABAB\n",
      "The size of the found shortest superstring is: 6\n"
     ]
    }
   ],
   "source": [
    "arr = [\"AAB\", \"BAA\", \"ABA\", \"BAB\"]\n",
    "\n",
    "solution, size = gp(arr, POPULATION_SIZE, NO_OF_ITERATIONS, ELITISM_SIZE, MUTATION_CHANCE, TOURNAMENT_SIZE)\n",
    "\n",
    "print_solution(solution)\n",
    "print_size(size)"
   ]
  },
  {
   "cell_type": "markdown",
   "id": "b201110f",
   "metadata": {},
   "source": [
    "### Primer 2\n",
    "\n",
    "Dat je niz koji sadrzi 5 niski od po 4 karaktera"
   ]
  },
  {
   "cell_type": "code",
   "execution_count": 10,
   "id": "661703d9",
   "metadata": {},
   "outputs": [
    {
     "name": "stdout",
     "output_type": "stream",
     "text": [
      "Execution time: 0.177 seconds.\n",
      "Found shortest superstring is: gabloabpobublm\n",
      "The size of the found shortest superstring is: 14\n"
     ]
    }
   ],
   "source": [
    "arr = [\"bloa\", \"bubl\", \"gabl\", \"abpo\", \"ublm\"]\n",
    "\n",
    "solution, size = gp(arr, POPULATION_SIZE, NO_OF_ITERATIONS, ELITISM_SIZE, MUTATION_CHANCE, TOURNAMENT_SIZE)\n",
    "\n",
    "print_solution(solution)\n",
    "print_size(size)"
   ]
  },
  {
   "cell_type": "markdown",
   "id": "9b8b443e",
   "metadata": {},
   "source": [
    "### Primer 3\n",
    "\n",
    "Dat je niz koji sadrzi 20 niski od po 4 karaktera"
   ]
  },
  {
   "cell_type": "code",
   "execution_count": 11,
   "id": "e679fd9f",
   "metadata": {
    "scrolled": true
   },
   "outputs": [
    {
     "name": "stdout",
     "output_type": "stream",
     "text": [
      "Execution time: 0.366 seconds.\n",
      "The size of the found shortest superstring is: 76\n"
     ]
    }
   ],
   "source": [
    "arr = [\"wobj\" , \"bfqp\", \"pzlb\", \"rfcs\", \"atha\", \n",
    "       \"npjp\", \"tfgu\", \"izjx\", \"dven\", \"tksn\", \n",
    "       \"fqws\", \"cusc\", \"qlpy\", \"fepk\", \"cbzj\", \n",
    "       \"ecrx\", \"cpsp\", \"zqdp\", \"liqu\", \"rdyu\"]\n",
    "\n",
    "solution, size = gp(arr, POPULATION_SIZE, NO_OF_ITERATIONS, ELITISM_SIZE, MUTATION_CHANCE, TOURNAMENT_SIZE)\n",
    "\n",
    "print_size(size)\n",
    "# print_solution(solution)"
   ]
  },
  {
   "cell_type": "markdown",
   "id": "aa43e864",
   "metadata": {},
   "source": [
    "Kod ovog primera se moze primetiti da genetski algoritam u vecini slucajeva (ali ne uvek) dobija optimalno resenje"
   ]
  },
  {
   "cell_type": "markdown",
   "id": "3af84ec5",
   "metadata": {},
   "source": [
    "### Slozeniji primeri"
   ]
  },
  {
   "cell_type": "markdown",
   "id": "2e990964",
   "metadata": {},
   "source": [
    "Pomocna funkcija za ucitavanje niski iz .txt fajla u niz"
   ]
  },
  {
   "cell_type": "code",
   "execution_count": 12,
   "id": "2858381b",
   "metadata": {},
   "outputs": [],
   "source": [
    "def LoadStringsFromTxt(filename):\n",
    "    with open(filename) as f:\n",
    "        data = f.read()\n",
    "    data = data.split(\"\\n\")\n",
    "    data.pop()\n",
    "    return data"
   ]
  },
  {
   "cell_type": "markdown",
   "id": "56461683",
   "metadata": {},
   "source": [
    "### Primer 4\n",
    "U fajlu \"test1.txt\" se nalazi 200 slucajno generisanih stringova duzine 8\n",
    "\n",
    "Ovi stringovi se sastoje iskljucivo od malih slova bez brojeva, npr. \"dasdfbnm\""
   ]
  },
  {
   "cell_type": "code",
   "execution_count": 13,
   "id": "b8c00b4e",
   "metadata": {},
   "outputs": [
    {
     "name": "stdout",
     "output_type": "stream",
     "text": [
      "Execution time: 5.208 seconds.\n",
      "The size of the found shortest superstring is: 1485\n"
     ]
    }
   ],
   "source": [
    "arr = []\n",
    "arr = LoadStringsFromTxt(\"data/test1.txt\")\n",
    "\n",
    "solution, size = gp(arr, POPULATION_SIZE, NO_OF_ITERATIONS, ELITISM_SIZE, MUTATION_CHANCE, TOURNAMENT_SIZE)\n",
    "\n",
    "print_size(size)\n",
    "# print_solution(solution)"
   ]
  },
  {
   "cell_type": "markdown",
   "id": "95bf2b47",
   "metadata": {},
   "source": [
    "### Primer 5\n",
    "U fajlu \"test2.txt\" se nalazi 300 slucajno generisanih stringova duzine 32\n",
    "\n",
    "Kao i do sad, ovi stringovi se iskljucivo sastoje od malih slova bez brojeva"
   ]
  },
  {
   "cell_type": "code",
   "execution_count": 14,
   "id": "5202ae19",
   "metadata": {},
   "outputs": [
    {
     "name": "stdout",
     "output_type": "stream",
     "text": [
      "Execution time: 14.371 seconds.\n",
      "The size of the found shortest superstring is: 9441\n"
     ]
    }
   ],
   "source": [
    "arr = []\n",
    "arr = LoadStringsFromTxt(\"data/test2.txt\")\n",
    "\n",
    "solution, size = gp(arr, POPULATION_SIZE, NO_OF_ITERATIONS, ELITISM_SIZE, MUTATION_CHANCE, TOURNAMENT_SIZE)\n",
    "\n",
    "print_size(size)\n",
    "#print_solution(solution)"
   ]
  },
  {
   "cell_type": "markdown",
   "id": "5c70626d",
   "metadata": {},
   "source": [
    "### Primer 6\n",
    "\n",
    "U datoteci DNA_Sequence je dato 500 nasumicno generisanih niski duzine 10 koje se sastoje od malih slova a, c, t, g kao u sekvenci DNK"
   ]
  },
  {
   "cell_type": "code",
   "execution_count": 15,
   "id": "8d59a369",
   "metadata": {},
   "outputs": [
    {
     "name": "stdout",
     "output_type": "stream",
     "text": [
      "Execution time: 21.489 seconds.\n",
      "The size of the found shortest superstring is: 4060\n"
     ]
    }
   ],
   "source": [
    "arr = []\n",
    "arr = LoadStringsFromTxt(\"data/DNA_Sequence5.txt\")\n",
    "\n",
    "solution, size = gp(arr, POPULATION_SIZE, NO_OF_ITERATIONS, ELITISM_SIZE, MUTATION_CHANCE, TOURNAMENT_SIZE)\n",
    "\n",
    "print_size(size)\n",
    "#print_solution(solution)"
   ]
  }
 ],
 "metadata": {
  "kernelspec": {
   "display_name": "Python 3",
   "language": "python",
   "name": "python3"
  },
  "language_info": {
   "codemirror_mode": {
    "name": "ipython",
    "version": 3
   },
   "file_extension": ".py",
   "mimetype": "text/x-python",
   "name": "python",
   "nbconvert_exporter": "python",
   "pygments_lexer": "ipython3",
   "version": "3.8.10"
  }
 },
 "nbformat": 4,
 "nbformat_minor": 5
}
