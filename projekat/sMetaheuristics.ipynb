{
 "cells": [
  {
   "cell_type": "markdown",
   "id": "c81d704c",
   "metadata": {},
   "source": [
    "# Algoritmi lokalne pretrage - LS, SA, VNS"
   ]
  },
  {
   "cell_type": "markdown",
   "id": "55928adb",
   "metadata": {},
   "source": [
    "Kod ovih algoritama necemo dobijati preterano dobra resenja, ali su svakako vrlo solidna opcija za primere gde znamo da necemo imati mnogo preklapanja izmedju niski"
   ]
  },
  {
   "cell_type": "markdown",
   "id": "5164f6a2",
   "metadata": {},
   "source": [
    "### Pomocne funkcije"
   ]
  },
  {
   "cell_type": "code",
   "execution_count": 1,
   "id": "f0f92fad",
   "metadata": {},
   "outputs": [],
   "source": [
    "import random\n",
    "\n",
    "def merge(arr):\n",
    "    n = len(arr)\n",
    "    solution = arr[0]\n",
    "    i = 1\n",
    "    while i < n:\n",
    "        string = arr[i]\n",
    "        len1 = len(solution)\n",
    "        len2 = len(string)\n",
    "        max_len = 0\n",
    "         \n",
    "        for j in range(1, min(len1, len2)+1):\n",
    "            if solution.endswith(string[:j]):\n",
    "                 max_len = j\n",
    "        solution += string[max_len:]\n",
    "        i+=1\n",
    "    return solution, len(solution)\n",
    "\n",
    "def swap(arr):\n",
    "    n = len(arr)\n",
    "    index1, index2 = random.sample(range(n), 2)\n",
    "    \n",
    "    temp = arr[index1]\n",
    "    arr[index1] = arr[index2]\n",
    "    arr[index2] = temp\n",
    "    \n",
    "    return arr\n",
    "\n",
    "def shaking(arr, k):\n",
    "    n = len(arr)\n",
    "    indexes = []\n",
    "    i = 0\n",
    "    for i in range(k):\n",
    "        indexes.append(random.sample(range(n), 2))\n",
    "    \n",
    "    for index_pair in indexes:\n",
    "        index1, index2 = index_pair\n",
    "        temp = arr[index1]\n",
    "        arr[index1] = arr[index2]\n",
    "        arr[index2] = temp\n",
    "    \n",
    "    return arr"
   ]
  },
  {
   "cell_type": "markdown",
   "id": "eb9ccef8",
   "metadata": {},
   "source": [
    "### Glavni algoritam lokalne pretrage - LS"
   ]
  },
  {
   "cell_type": "code",
   "execution_count": 2,
   "id": "0fe3f6b7",
   "metadata": {},
   "outputs": [],
   "source": [
    "import time\n",
    "num_iter = 100\n",
    "def LS(arr):\n",
    "    start = time.time()\n",
    "    \n",
    "    arr = list(set(arr)) #uklanjamo sve duplikate iz polaznog niza\n",
    "    \n",
    "    scs, length = merge(arr)\n",
    "    \n",
    "    for i in range(num_iter):\n",
    "        new_arr = swap(arr)\n",
    "        new_scs, new_length = merge(new_arr)\n",
    "        \n",
    "        if new_length < length:\n",
    "            arr, scs, length = new_arr, new_scs, new_length\n",
    "    \n",
    "    \n",
    "    end = time.time()\n",
    "    delta = end-start\n",
    "    if delta < 0.0001:\n",
    "        print(\"LS:  Execution time: <0.0001 seconds.\")\n",
    "    else:\n",
    "        print(\"LS:  Execution time: \" + str(round(delta, 4)) + \" seconds.\")\n",
    "        \n",
    "    return scs, length"
   ]
  },
  {
   "cell_type": "markdown",
   "id": "ffdac3df",
   "metadata": {},
   "source": [
    "### Glavni algoritam simuliranog kaljenja - SA"
   ]
  },
  {
   "cell_type": "code",
   "execution_count": 3,
   "id": "e50a2d17",
   "metadata": {},
   "outputs": [],
   "source": [
    "def SA(arr):\n",
    "    start = time.time()\n",
    "    \n",
    "    arr = list(set(arr)) #uklanjamo sve duplikate iz polaznog niza\n",
    "    \n",
    "    scs, length = merge(arr)\n",
    "    best_arr, best_scs, best_length = arr, scs, length\n",
    "    \n",
    "    for i in range(1, num_iter):\n",
    "        new_arr = swap(arr)\n",
    "        new_scs, new_length = merge(new_arr)\n",
    "        \n",
    "        if new_length < length:\n",
    "            arr, scs, length = new_arr, new_scs, new_length\n",
    "            if new_length < best_length:\n",
    "                best_arr, best_scs, best_length = new_arr, new_scs, new_length\n",
    "        else:\n",
    "            p = 1 / i ** 0.5\n",
    "            q = random.random()\n",
    "            if q < p:\n",
    "                arr, scs, length = new_arr, new_scs, new_length\n",
    "                \n",
    "    end = time.time()\n",
    "    delta = end-start\n",
    "    if delta < 0.0001:\n",
    "        print(\"SA:  Execution time: <0.0001 seconds.\")\n",
    "    else:\n",
    "        print(\"SA:  Execution time: \" + str(round(delta, 4)) + \" seconds.\")\n",
    "        \n",
    "    return best_scs, best_length"
   ]
  },
  {
   "cell_type": "markdown",
   "id": "dcf0ef32",
   "metadata": {},
   "source": [
    "### Glavni algoritam VNS pretrage"
   ]
  },
  {
   "cell_type": "code",
   "execution_count": 4,
   "id": "24de91d2",
   "metadata": {},
   "outputs": [],
   "source": [
    "def VNS(arr, k_max, move_prob):\n",
    "    start = time.time()\n",
    "    \n",
    "    arr = list(set(arr)) #uklanjamo sve duplikate iz polaznog niza\n",
    "    \n",
    "    scs, length = merge(arr)\n",
    "    \n",
    "    for i in range(num_iter):\n",
    "        for k in range(1, k_max):\n",
    "            new_arr = shaking(arr, k)\n",
    "            new_scs, new_length = merge(new_arr)\n",
    "        \n",
    "            if new_length < length or (new_length == length and random.random() < move_prob):\n",
    "                arr, scs, length = new_arr, new_scs, new_length\n",
    "                break\n",
    "    \n",
    "    \n",
    "    end = time.time()\n",
    "    delta = end-start\n",
    "    if delta < 0.0001:\n",
    "        print(\"VNS: Execution time: <0.0001 seconds.\\n\")\n",
    "    else:\n",
    "        print(\"VNS: Execution time: \" + str(round(delta, 4)) + \" seconds.\\n\")\n",
    "        \n",
    "    return scs, length"
   ]
  },
  {
   "cell_type": "markdown",
   "id": "850ae136",
   "metadata": {},
   "source": [
    "Pomocne funkcije za stampanje rezultata"
   ]
  },
  {
   "cell_type": "code",
   "execution_count": 5,
   "id": "35c2c459",
   "metadata": {},
   "outputs": [],
   "source": [
    "def print_all_solutions(sol1, sol2, sol3):\n",
    "    print(\"Found shortest superstrings:\\nLS: \" + sol1 + \"\\tSA: \" + sol2 + \"\\tVNS: \" + sol3)\n",
    "        \n",
    "def print_all_sizes(size1, size2, size3):\n",
    "    print(\"Sizes of found shortest superstrings:\\nLS: \" + str(size1) + \"\\tSA: \" + str(size2) + \"\\tVNS: \" + str(size3))"
   ]
  },
  {
   "cell_type": "markdown",
   "id": "212a9764",
   "metadata": {},
   "source": [
    "## Primeri"
   ]
  },
  {
   "cell_type": "markdown",
   "id": "a6589037",
   "metadata": {},
   "source": [
    "### Primer 1\n",
    "\n",
    "Dat je niz koji sadrzi 4 niske od po 3 karaktera"
   ]
  },
  {
   "cell_type": "code",
   "execution_count": 6,
   "id": "7f04870e",
   "metadata": {},
   "outputs": [
    {
     "name": "stdout",
     "output_type": "stream",
     "text": [
      "LS:  Execution time: 0.0005 seconds.\n",
      "SA:  Execution time: 0.0005 seconds.\n",
      "VNS: Execution time: 0.0028 seconds.\n",
      "\n",
      "Found shortest superstrings:\n",
      "LS: BABAAB\tSA: BAABAB\tVNS: BAABAB\n",
      "Sizes of found shortest superstrings:\n",
      "LS: 6\tSA: 6\tVNS: 6\n"
     ]
    }
   ],
   "source": [
    "arr = [\"AAB\", \"BAA\", \"ABA\", \"BAB\"]\n",
    "\n",
    "solution1, size1 = LS(arr)\n",
    "solution2, size2 = SA(arr)\n",
    "solution3, size3 = VNS(arr, k_max=5, move_prob = 0.5)\n",
    "\n",
    "print_all_solutions(solution1, solution2, solution3)\n",
    "print_all_sizes(size1, size2, size3)"
   ]
  },
  {
   "cell_type": "markdown",
   "id": "fc677054",
   "metadata": {},
   "source": [
    "### Primer 2\n",
    "\n",
    "Dat je niz koji sadrzi 5 niski od po 4 karaktera"
   ]
  },
  {
   "cell_type": "code",
   "execution_count": 7,
   "id": "2aeafe13",
   "metadata": {},
   "outputs": [
    {
     "name": "stdout",
     "output_type": "stream",
     "text": [
      "LS:  Execution time: 0.0005 seconds.\n",
      "SA:  Execution time: 0.0006 seconds.\n",
      "VNS: Execution time: 0.003 seconds.\n",
      "\n",
      "Found shortest superstrings:\n",
      "LS: gabloabpobublm\tSA: bublmgabloabpo\tVNS: gabloabpobublm\n",
      "Sizes of found shortest superstrings:\n",
      "LS: 14\tSA: 14\tVNS: 14\n"
     ]
    }
   ],
   "source": [
    "arr = [\"bloa\", \"bubl\", \"gabl\", \"abpo\", \"ublm\"]\n",
    "\n",
    "solution1, size1 = LS(arr)\n",
    "solution2, size2 = SA(arr)\n",
    "solution3, size3 = VNS(arr, k_max=5, move_prob = 0.5)\n",
    "\n",
    "print_all_solutions(solution1, solution2, solution3)\n",
    "print_all_sizes(size1, size2, size3)"
   ]
  },
  {
   "cell_type": "markdown",
   "id": "93912558",
   "metadata": {},
   "source": [
    "### Primer 3\n",
    "\n",
    "Dat je niz koji sadrzi 20 niski od po 4 karaktera"
   ]
  },
  {
   "cell_type": "code",
   "execution_count": 8,
   "id": "f0b31557",
   "metadata": {},
   "outputs": [
    {
     "name": "stdout",
     "output_type": "stream",
     "text": [
      "LS:  Execution time: 0.0016 seconds.\n",
      "SA:  Execution time: 0.0016 seconds.\n",
      "VNS: Execution time: 0.0111 seconds.\n",
      "\n",
      "Sizes of found shortest superstrings:\n",
      "LS: 77\tSA: 77\tVNS: 77\n"
     ]
    }
   ],
   "source": [
    "arr = [\"wobj\" , \"bfqp\", \"pzlb\", \"rfcs\", \"atha\", \n",
    "       \"npjp\", \"tfgu\", \"izjx\", \"dven\", \"tksn\", \n",
    "       \"fqws\", \"cusc\", \"qlpy\", \"fepk\", \"cbzj\", \n",
    "       \"ecrx\", \"cpsp\", \"zqdp\", \"liqu\", \"rdyu\"]\n",
    "\n",
    "solution1, size1 = LS(arr)\n",
    "solution2, size2 = SA(arr)\n",
    "solution3, size3 = VNS(arr, k_max=5, move_prob = 0.5)\n",
    "\n",
    "#print_all_solutions(solution1, solution2, solution3)\n",
    "print_all_sizes(size1, size2, size3)"
   ]
  },
  {
   "cell_type": "markdown",
   "id": "6f0478bb",
   "metadata": {},
   "source": [
    "### Slozeniji primeri"
   ]
  },
  {
   "cell_type": "markdown",
   "id": "2ea62aa2",
   "metadata": {},
   "source": [
    "Pomocna funkcija za ucitavanje niski iz .txt fajla u niz"
   ]
  },
  {
   "cell_type": "code",
   "execution_count": 9,
   "id": "2dc75096",
   "metadata": {},
   "outputs": [],
   "source": [
    "def LoadStringsFromTxt(filename):\n",
    "    with open(filename) as f:\n",
    "        data = f.read()\n",
    "    data = data.split(\"\\n\")\n",
    "    data.pop()\n",
    "    return data"
   ]
  },
  {
   "cell_type": "markdown",
   "id": "fc6e5c5c",
   "metadata": {},
   "source": [
    "### Primer 4"
   ]
  },
  {
   "cell_type": "code",
   "execution_count": 10,
   "id": "28db19fe",
   "metadata": {},
   "outputs": [
    {
     "name": "stdout",
     "output_type": "stream",
     "text": [
      "LS:  Execution time: 0.0272 seconds.\n",
      "SA:  Execution time: 0.0235 seconds.\n",
      "VNS: Execution time: 0.0712 seconds.\n",
      "\n",
      "Sizes of found shortest superstrings:\n",
      "LS: 1593\tSA: 1588\tVNS: 1586\n"
     ]
    }
   ],
   "source": [
    "arr = []\n",
    "arr = LoadStringsFromTxt(\"data/test1.txt\")\n",
    "\n",
    "solution1, size1 = LS(arr)\n",
    "solution2, size2 = SA(arr)\n",
    "solution3, size3 = VNS(arr, k_max=5, move_prob = 0.5)\n",
    "\n",
    "#print_all_solutions(solution1, solution2, solution3)\n",
    "print_all_sizes(size1, size2, size3)"
   ]
  },
  {
   "cell_type": "markdown",
   "id": "64efdba4",
   "metadata": {},
   "source": [
    "### Primer 5"
   ]
  },
  {
   "cell_type": "code",
   "execution_count": 11,
   "id": "e66091b0",
   "metadata": {},
   "outputs": [
    {
     "name": "stdout",
     "output_type": "stream",
     "text": [
      "LS:  Execution time: 0.0966 seconds.\n",
      "SA:  Execution time: 0.0926 seconds.\n",
      "VNS: Execution time: 0.3288 seconds.\n",
      "\n",
      "Sizes of found shortest superstrings:\n",
      "LS: 9586\tSA: 9587\tVNS: 9580\n"
     ]
    }
   ],
   "source": [
    "arr = []\n",
    "arr = LoadStringsFromTxt(\"data/test2.txt\")\n",
    "\n",
    "solution1, size1 = LS(arr)\n",
    "solution2, size2 = SA(arr)\n",
    "solution3, size3 = VNS(arr, k_max=5, move_prob = 0.5)\n",
    "\n",
    "#print_all_solutions(solution1, solution2, solution3)\n",
    "print_all_sizes(size1, size2, size3)"
   ]
  },
  {
   "cell_type": "markdown",
   "id": "966dcec1",
   "metadata": {},
   "source": [
    "### Primer 6"
   ]
  },
  {
   "cell_type": "code",
   "execution_count": 12,
   "id": "d0f8dabc",
   "metadata": {},
   "outputs": [
    {
     "name": "stdout",
     "output_type": "stream",
     "text": [
      "LS:  Execution time: 0.067 seconds.\n",
      "SA:  Execution time: 0.0614 seconds.\n",
      "VNS: Execution time: 0.2237 seconds.\n",
      "\n",
      "Sizes of found shortest superstrings:\n",
      "LS: 4650\tSA: 4653\tVNS: 4627\n"
     ]
    }
   ],
   "source": [
    "arr = []\n",
    "arr = LoadStringsFromTxt(\"data/DNA_Sequence5.txt\")\n",
    "\n",
    "solution1, size1 = LS(arr)\n",
    "solution2, size2 = SA(arr)\n",
    "solution3, size3 = VNS(arr, k_max=5, move_prob = 0.5)\n",
    "\n",
    "#print_all_solutions(solution1, solution2, solution3)\n",
    "print_all_sizes(size1, size2, size3)"
   ]
  },
  {
   "cell_type": "markdown",
   "id": "e8496e18",
   "metadata": {},
   "source": [
    "Sva tri algoritma daju vrlo slicne rezultate - jedina razlika medju njima je sto se VNS izvrsava duze i za malo vece primere u proseku daje za nijansu bolja resenja"
   ]
  }
 ],
 "metadata": {
  "kernelspec": {
   "display_name": "Python 3",
   "language": "python",
   "name": "python3"
  },
  "language_info": {
   "codemirror_mode": {
    "name": "ipython",
    "version": 3
   },
   "file_extension": ".py",
   "mimetype": "text/x-python",
   "name": "python",
   "nbconvert_exporter": "python",
   "pygments_lexer": "ipython3",
   "version": "3.8.10"
  }
 },
 "nbformat": 4,
 "nbformat_minor": 5
}
