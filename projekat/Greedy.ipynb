{
 "cells": [
  {
   "cell_type": "markdown",
   "id": "14b519cd",
   "metadata": {},
   "source": [
    "# Pohlepni algoritam"
   ]
  },
  {
   "cell_type": "markdown",
   "id": "474cb3cf",
   "metadata": {},
   "source": [
    "Funkcija za trazenje najveceg poklapanja izmedju dve odabrane niske"
   ]
  },
  {
   "cell_type": "code",
   "execution_count": 1,
   "id": "dea93c04",
   "metadata": {},
   "outputs": [],
   "source": [
    "def findBiggestOverlap(str1, str2):\n",
    "    max_len = -1\n",
    "    len1 = len(str1)\n",
    "    len2 = len(str2)\n",
    "    solution = \"\"\n",
    "    \n",
    "    # Provera da li se sufiks str1 poklapa sa prefiksom str2\n",
    "    for i in range(1, min(len1, len2)+1):\n",
    "        if str1.endswith(str2[:i]):\n",
    "            if max_len < i:\n",
    "                max_len = i\n",
    "                solution = str1 + str2[i:]\n",
    "                \n",
    "    # Provera da li se sufiks str2 poklapa sa prefiksom str1        \n",
    "    for i in range(1, min(len1, len2)+1):\n",
    "        if str2.endswith(str1[:i]):\n",
    "            if max_len < i:\n",
    "                max_len = i\n",
    "                solution = str2 + str1[i:]\n",
    "    \n",
    "    return max_len, solution"
   ]
  },
  {
   "cell_type": "markdown",
   "id": "29e78700",
   "metadata": {},
   "source": [
    "Telo glavne funkcije koja ce vratiti pronadjen SCS i njegovu duzinu"
   ]
  },
  {
   "cell_type": "code",
   "execution_count": 2,
   "id": "f9eac430",
   "metadata": {},
   "outputs": [],
   "source": [
    "import time\n",
    "def GreedyShortestSuperstring(arr):\n",
    "    start = time.time()\n",
    "    n = len(arr)\n",
    "    # Spajamo elemente niza sa najvecim preklapanjem dok ne dobijemo\n",
    "    # jedan element koji ce ujedno biti resenje problema\n",
    "    while n != 1:\n",
    "        max_len = -1\n",
    "        l, r = 0, 0\n",
    "        shortest_str = \"\"\n",
    "        \n",
    "        for i in range(n):\n",
    "            for j in range(i+1, n):\n",
    "                current_str = \"\"\n",
    "                length, current_str = findBiggestOverlap(arr[i], arr[j])\n",
    "                \n",
    "                if max_len < length:\n",
    "                    max_len = length\n",
    "                    shortest_str = current_str\n",
    "                    l, r = i, j\n",
    "                    \n",
    "        n -= 1\n",
    "        \n",
    "        if max_len == -1:\n",
    "            arr[0] += arr[n]\n",
    "        else:\n",
    "            arr[l] = shortest_str\n",
    "            arr[r] = arr[n]\n",
    "            \n",
    "    end = time.time()\n",
    "    delta = end-start\n",
    "    if delta < 0.0001:\n",
    "        print(\"Execution time: <0.0001 seconds.\")\n",
    "    else:\n",
    "        print(\"Execution time: \" + str(round(delta, 3)) + \" seconds.\")\n",
    "    return arr[0], len(arr[0])"
   ]
  },
  {
   "cell_type": "markdown",
   "id": "54e06597",
   "metadata": {},
   "source": [
    "Pomocna funkcija za stampanje rezultata"
   ]
  },
  {
   "cell_type": "code",
   "execution_count": 3,
   "id": "e896d2d5",
   "metadata": {},
   "outputs": [],
   "source": [
    "def print_solution(sol):\n",
    "    if len(sol) == 0:\n",
    "        print(\"Shortest superstring not found\")\n",
    "    else:\n",
    "        print(\"Found shortest superstring is: \" + sol)\n",
    "        \n",
    "def print_size(size):\n",
    "    if size == 0:\n",
    "        print(\"Shortest superstring not found\")\n",
    "    else:\n",
    "        print(\"The size of the found shortest superstring is: \" + str(size))"
   ]
  },
  {
   "cell_type": "markdown",
   "id": "417b943d",
   "metadata": {},
   "source": [
    "## Primeri"
   ]
  },
  {
   "cell_type": "markdown",
   "id": "a3e55753",
   "metadata": {},
   "source": [
    "### Primer 1\n",
    "\n",
    "Dat je niz koji sadrzi 4 niske od po 3 karaktera"
   ]
  },
  {
   "cell_type": "code",
   "execution_count": 4,
   "id": "82e272fd",
   "metadata": {},
   "outputs": [
    {
     "name": "stdout",
     "output_type": "stream",
     "text": [
      "Execution time: <0.0001 seconds.\n",
      "Found shortest superstring is: BAABAB\n",
      "The size of the found shortest superstring is: 6\n"
     ]
    }
   ],
   "source": [
    "arr = [\"AAB\", \"BAA\", \"ABA\", \"BAB\"]\n",
    "\n",
    "solution, size = GreedyShortestSuperstring(arr)\n",
    "\n",
    "print_solution(solution)\n",
    "print_size(size)"
   ]
  },
  {
   "cell_type": "markdown",
   "id": "b201110f",
   "metadata": {},
   "source": [
    "### Primer 2\n",
    "\n",
    "Dat je niz koji sadrzi 5 niski od po 4 karaktera"
   ]
  },
  {
   "cell_type": "code",
   "execution_count": 5,
   "id": "661703d9",
   "metadata": {},
   "outputs": [
    {
     "name": "stdout",
     "output_type": "stream",
     "text": [
      "Execution time: <0.0001 seconds.\n",
      "Found shortest superstring is: gabloabpobublm\n",
      "The size of the found shortest superstring is: 14\n"
     ]
    }
   ],
   "source": [
    "arr = [\"bloa\", \"bubl\", \"gabl\", \"abpo\", \"ublm\"]\n",
    "\n",
    "solution, size = GreedyShortestSuperstring(arr)\n",
    "\n",
    "print_solution(solution)\n",
    "print_size(size)"
   ]
  },
  {
   "cell_type": "markdown",
   "id": "9b8b443e",
   "metadata": {},
   "source": [
    "### Primer 3\n",
    "\n",
    "Dat je niz koji sadrzi 20 niski od po 4 karaktera"
   ]
  },
  {
   "cell_type": "code",
   "execution_count": 6,
   "id": "e679fd9f",
   "metadata": {
    "scrolled": true
   },
   "outputs": [
    {
     "name": "stdout",
     "output_type": "stream",
     "text": [
      "Execution time: 0.002 seconds.\n",
      "The size of the found shortest superstring is: 77\n"
     ]
    }
   ],
   "source": [
    "arr = [\"wobj\" , \"bfqp\", \"pzlb\", \"rfcs\", \"atha\", \n",
    "       \"npjp\", \"tfgu\", \"izjx\", \"dven\", \"tksn\", \n",
    "       \"fqws\", \"cusc\", \"qlpy\", \"fepk\", \"cbzj\", \n",
    "       \"ecrx\", \"cpsp\", \"zqdp\", \"liqu\", \"rdyu\"]\n",
    "\n",
    "solution, size = GreedyShortestSuperstring(arr)\n",
    "\n",
    "print_size(size)\n",
    "# print_solution(solution)"
   ]
  },
  {
   "cell_type": "markdown",
   "id": "aa43e864",
   "metadata": {},
   "source": [
    "Za ovaj primer se moze videti da pohlepni algoritam nije optimalan - optimalno resenje daje nisku duzine 76 karaktera, a dobijeno resenje je niska duzine 77 karaktera"
   ]
  },
  {
   "cell_type": "markdown",
   "id": "c1113630",
   "metadata": {},
   "source": [
    "### Bonus primer\n",
    "Da bi nedostatak optimalnosti bio ocigledan - pogledajmo sledeci kod koji sadrzi pazljivo odabrane elemente inspirisane prethodnim primerom"
   ]
  },
  {
   "cell_type": "code",
   "execution_count": 7,
   "id": "1d94a3ab",
   "metadata": {
    "scrolled": true
   },
   "outputs": [
    {
     "name": "stdout",
     "output_type": "stream",
     "text": [
      "Execution time: <0.0001 seconds.\n",
      "The size of the found shortest superstring is: 5\n",
      "Found shortest superstring is: bpbnp\n"
     ]
    }
   ],
   "source": [
    "arr = [\"bp\", \"pb\", \"np\"]\n",
    "\n",
    "solution, size = GreedyShortestSuperstring(arr)\n",
    "\n",
    "print_size(size)\n",
    "print_solution(solution)"
   ]
  },
  {
   "cell_type": "markdown",
   "id": "b5e38c2f",
   "metadata": {},
   "source": [
    "Ako samo malo promenimo redosled niski u nizu \"arr\" dobicemo optimalno resenje"
   ]
  },
  {
   "cell_type": "code",
   "execution_count": 8,
   "id": "f2e2e85c",
   "metadata": {},
   "outputs": [
    {
     "name": "stdout",
     "output_type": "stream",
     "text": [
      "Execution time: <0.0001 seconds.\n",
      "The size of the found shortest superstring is: 4\n",
      "Found shortest superstring is: npbp\n"
     ]
    }
   ],
   "source": [
    "arr = [\"np\", \"pb\", \"bp\"]\n",
    "\n",
    "solution, size = GreedyShortestSuperstring(arr)\n",
    "\n",
    "print_size(size)\n",
    "print_solution(solution)"
   ]
  },
  {
   "cell_type": "markdown",
   "id": "8cb53ac7",
   "metadata": {},
   "source": [
    "Vidimo da optimalnost resenja zavisi od redosleda niski u nizu - moguce je dodavati dodatne uslove i pretrage u polazan pohlepni algoritam ali to ce bitno uticati na njegovu slozenost i citljivost"
   ]
  },
  {
   "cell_type": "markdown",
   "id": "3af84ec5",
   "metadata": {},
   "source": [
    "### Slozeniji primeri"
   ]
  },
  {
   "cell_type": "markdown",
   "id": "2e990964",
   "metadata": {},
   "source": [
    "Pomocna funkcija za ucitavanje niski iz .txt fajla u niz"
   ]
  },
  {
   "cell_type": "code",
   "execution_count": 9,
   "id": "2858381b",
   "metadata": {},
   "outputs": [],
   "source": [
    "def LoadStringsFromTxt(filename):\n",
    "    with open(filename) as f:\n",
    "        data = f.read()\n",
    "    data = data.split(\"\\n\")\n",
    "    data.pop()\n",
    "    return data"
   ]
  },
  {
   "cell_type": "markdown",
   "id": "56461683",
   "metadata": {},
   "source": [
    "### Primer 4\n",
    "U fajlu \"test1.txt\" se nalazi 200 slucajno generisanih niski duzine 8\n",
    "\n",
    "Ove niske se sastoje iskljucivo od malih slova bez brojeva, npr. \"dasdfbnm\""
   ]
  },
  {
   "cell_type": "code",
   "execution_count": 10,
   "id": "b8c00b4e",
   "metadata": {},
   "outputs": [
    {
     "name": "stdout",
     "output_type": "stream",
     "text": [
      "Execution time: 2.671 seconds.\n",
      "The size of the found shortest superstring is: 1401\n"
     ]
    }
   ],
   "source": [
    "arr = []\n",
    "arr = LoadStringsFromTxt(\"data/test1.txt\")\n",
    "\n",
    "solution, size = GreedyShortestSuperstring(arr)\n",
    "\n",
    "print_size(size)\n",
    "# print_solution(solution)"
   ]
  },
  {
   "cell_type": "markdown",
   "id": "95bf2b47",
   "metadata": {},
   "source": [
    "### Primer 5\n",
    "U fajlu \"test2.txt\" se nalazi 300 slucajno generisanih niski duzine 32\n",
    "\n",
    "Kao i do sad, ove niske se iskljucivo sastoje od malih slova bez brojeva"
   ]
  },
  {
   "cell_type": "code",
   "execution_count": 11,
   "id": "5202ae19",
   "metadata": {},
   "outputs": [
    {
     "name": "stdout",
     "output_type": "stream",
     "text": [
      "Execution time: 27.972 seconds.\n",
      "The size of the found shortest superstring is: 9231\n"
     ]
    }
   ],
   "source": [
    "arr = []\n",
    "arr = LoadStringsFromTxt(\"data/test2.txt\")\n",
    "\n",
    "solution, size = GreedyShortestSuperstring(arr)\n",
    "\n",
    "print_size(size)\n",
    "#print_solution(solution)"
   ]
  },
  {
   "cell_type": "markdown",
   "id": "160fead4",
   "metadata": {},
   "source": [
    "### Primer 6\n",
    "\n",
    "U datoteci DNA_Sequence je dato 500 nasumicno generisanih niski duzine 10 koje se sastoje od malih slova a, c, t, g kao u sekvenci DNK"
   ]
  },
  {
   "cell_type": "code",
   "execution_count": 12,
   "id": "ffe834ce",
   "metadata": {},
   "outputs": [
    {
     "name": "stdout",
     "output_type": "stream",
     "text": [
      "Execution time: 50.876 seconds.\n",
      "The size of the found shortest superstring is: 2540\n"
     ]
    }
   ],
   "source": [
    "arr = []\n",
    "arr = LoadStringsFromTxt(\"data/DNA_Sequence5.txt\")\n",
    "\n",
    "solution, size = GreedyShortestSuperstring(arr)\n",
    "\n",
    "print_size(size)\n",
    "#print_solution(solution)"
   ]
  }
 ],
 "metadata": {
  "kernelspec": {
   "display_name": "Python 3",
   "language": "python",
   "name": "python3"
  },
  "language_info": {
   "codemirror_mode": {
    "name": "ipython",
    "version": 3
   },
   "file_extension": ".py",
   "mimetype": "text/x-python",
   "name": "python",
   "nbconvert_exporter": "python",
   "pygments_lexer": "ipython3",
   "version": "3.8.10"
  }
 },
 "nbformat": 4,
 "nbformat_minor": 5
}
