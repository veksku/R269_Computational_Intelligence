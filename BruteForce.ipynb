{
 "cells": [
  {
   "cell_type": "markdown",
   "id": "c81d704c",
   "metadata": {},
   "source": [
    "# Algoritam grube sile"
   ]
  },
  {
   "cell_type": "markdown",
   "id": "55928adb",
   "metadata": {},
   "source": [
    "Ispod je dat algoritam grube sile koji se oslanja na dinamicko programiranje i posmatra SCS problem kao podvrstu TSP (Travelling salesman problem)\n",
    "\n",
    "Kod je preuzet sa leetcode sa vrlo sitnim izmenama"
   ]
  },
  {
   "cell_type": "code",
   "execution_count": 1,
   "id": "0fe3f6b7",
   "metadata": {},
   "outputs": [],
   "source": [
    "import time\n",
    "from itertools import permutations\n",
    "def DP_ShortestSuperstring(A):\n",
    "    start = time.time()\n",
    "    n = len(A)\n",
    "    cost = [[0]*n for _ in range(n)]\n",
    "    for i in range(n):\n",
    "        for j in range(n):\n",
    "            for k in range(min(len(A[i]), len(A[j])), -1, -1):\n",
    "                if A[i][-k:] == A[j][:k]:\n",
    "                    cost[i][j] = k\n",
    "                    break\n",
    "    \n",
    "    dp = [[(float('inf'), \"\")]*n for _ in range(1 << n)]\n",
    "    \n",
    "    for i in range(n):\n",
    "        dp[1 << i][i] = (len(A[i]), A[i])\n",
    "    \n",
    "    for i in range(1 << n):\n",
    "        curr_time = time.time()\n",
    "        delta = curr_time - start\n",
    "        b = [j for j in range(n) if i & (1<<j)]\n",
    "        for add, src in permutations(b,2):\n",
    "            cand = dp[i^(1<<add)][src][1] + A[add][cost[src][add]:]\n",
    "            dp[i][add] = min(dp[i][add], (len(cand), cand))\n",
    "    \n",
    "    end = time.time()\n",
    "    delta = end-start\n",
    "    if delta < 0.0001:\n",
    "        print(\"Execution time: <0.0001 seconds.\")\n",
    "    else:\n",
    "        print(\"Execution time: \" + str(round(delta, 4)) + \" seconds.\")\n",
    "        \n",
    "    return min(dp[-1])[1], len(min(dp[-1])[1])"
   ]
  },
  {
   "cell_type": "code",
   "execution_count": 2,
   "id": "35c2c459",
   "metadata": {},
   "outputs": [],
   "source": [
    "def print_solution(sol):\n",
    "    if len(sol) == 0:\n",
    "        print(\"Shortest superstring not found\")\n",
    "    else:\n",
    "        print(\"Found shortest superstring is: \" + sol)\n",
    "        \n",
    "def print_size(size):\n",
    "    if size == 0:\n",
    "        print(\"Shortest superstring not found\")\n",
    "    else:\n",
    "        print(\"The size of the found shortest superstring is: \" + str(size))"
   ]
  },
  {
   "cell_type": "code",
   "execution_count": 3,
   "id": "2dc75096",
   "metadata": {},
   "outputs": [],
   "source": [
    "def LoadStringsFromTxt(filename):\n",
    "    with open(filename) as f:\n",
    "        data = f.read()\n",
    "    data = data.split(\"\\n\")\n",
    "    data.pop()\n",
    "    return data"
   ]
  },
  {
   "cell_type": "code",
   "execution_count": 4,
   "id": "d0f8dabc",
   "metadata": {},
   "outputs": [
    {
     "name": "stdout",
     "output_type": "stream",
     "text": [
      "Execution time: 41.1409 seconds.\n",
      "The size of the found shortest superstring is: 161\n"
     ]
    }
   ],
   "source": [
    "arr = []\n",
    "arr = LoadStringsFromTxt(\"DNA_Sequence2.txt\")\n",
    "\n",
    "solution, size = DP_ShortestSuperstring(arr)\n",
    "\n",
    "print_size(size)\n",
    "# print_solution(solution)"
   ]
  }
 ],
 "metadata": {
  "kernelspec": {
   "display_name": "Python 3",
   "language": "python",
   "name": "python3"
  },
  "language_info": {
   "codemirror_mode": {
    "name": "ipython",
    "version": 3
   },
   "file_extension": ".py",
   "mimetype": "text/x-python",
   "name": "python",
   "nbconvert_exporter": "python",
   "pygments_lexer": "ipython3",
   "version": "3.8.10"
  }
 },
 "nbformat": 4,
 "nbformat_minor": 5
}
