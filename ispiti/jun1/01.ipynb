{
 "cells": [
  {
   "cell_type": "markdown",
   "metadata": {},
   "source": [
    "### Problem p-medijane.\n",
    "Kod problema p-medijane (p-median problem) se razmatra skup korisnika $I$ i skup resursa $J$.\n",
    "\n",
    "Za svaki par korisnik-resurs poznata je cena dodeljivanja $c_{ij}$, i∈$I$, j∈$J$.\n",
    "\n",
    "Svaki korisnik se može dodeliti tačno jednom, prethodno uspostavljenom resursu.\n",
    "\n",
    "Pritom neki resursi mogu biti neiskorišćeni, dok drugim resursima može biti dodeljeno jedan ili više korisnika.\n",
    "\n",
    "Potrebno je odrediti kojih $p$ resursa treba da bude uspostavljeno,\n",
    "tako da ukupna suma cena dodeljivanja korisnika uspostavljenim resursima bude minimalna."
   ]
  },
  {
   "cell_type": "markdown",
   "metadata": {},
   "source": [
    "Data je matrica cene dodeljivanja korisnika resursima $C$ i broj $p$."
   ]
  },
  {
   "cell_type": "code",
   "execution_count": null,
   "metadata": {},
   "outputs": [],
   "source": [
    "C = [[1,2,1,4],\n",
    "     [6,1,2,3],\n",
    "     [5,2,3,1],\n",
    "     [3,3,3,8],\n",
    "     [4,5,3,2]\n",
    "    ]\n",
    "p = 2\n",
    "# optimalno resenje: uspostavljeni su drugi i treci resurs\n",
    "# vrednost: 1 + 1 + 2 + 3 + 3 = 10\n",
    "# optimalno resenje je 9? lol"
   ]
  },
  {
   "cell_type": "markdown",
   "metadata": {},
   "source": [
    "Napisati funkciju 𝑖𝑛𝑖𝑡𝑖𝑎𝑙𝑖𝑧𝑒 koja za dati broj resursa 𝑛 i traženi broj resursa koje treba uspostaviti $p$ konstruiše početno rešenje."
   ]
  },
  {
   "cell_type": "code",
   "execution_count": null,
   "metadata": {},
   "outputs": [],
   "source": [
    "import random\n",
    "\n",
    "def initialize(n, p):\n",
    "# POCETAK STUDENTSKOG KODA\n",
    "    solution = [0 for _ in range(n)]\n",
    "\n",
    "    i=0\n",
    "    while i < p:\n",
    "        index = int(random.random() * n)\n",
    "        if(solution[index] == 0):\n",
    "            solution[index] = 1\n",
    "            i += 1\n",
    "    return solution\n",
    "# KRAJ STUDENTSKOG KODA"
   ]
  },
  {
   "cell_type": "markdown",
   "metadata": {},
   "source": [
    "Napisati funkciju 𝑐𝑎𝑙𝑐𝑆𝑜𝑙𝑢𝑡𝑖𝑜𝑛𝑉𝑎𝑙𝑢𝑒 koja za dato rešenje 𝑠𝑜𝑙𝑢𝑡𝑖𝑜𝑛 i matricu cene dodeljivanja korisnika resursima $C$ računa vrednost tog rešenja."
   ]
  },
  {
   "cell_type": "code",
   "execution_count": null,
   "metadata": {},
   "outputs": [],
   "source": [
    "def calcSolutionValue(solution, C):\n",
    "# POCETAK STUDENTSKOG KODA\n",
    "    num_resources = len(solution)\n",
    "    num_users = len(C)\n",
    "    total=0\n",
    "    for i in range(num_users):\n",
    "        minimum = float('inf')\n",
    "        for j in range(num_resources):\n",
    "            if solution[j] == 1:\n",
    "                curr_min = C[i][j]\n",
    "                if curr_min < minimum:\n",
    "                    minimum = curr_min\n",
    "        total += minimum\n",
    "    return total\n",
    "# KRAJ STUDENTSKOG KODA"
   ]
  },
  {
   "cell_type": "markdown",
   "metadata": {},
   "source": [
    "Napisati funkciju $createNewSolution$ koja malom izmenom datog trenutnog rešenja $solution$ konstruiše novo rešenje."
   ]
  },
  {
   "cell_type": "code",
   "execution_count": null,
   "metadata": {},
   "outputs": [],
   "source": [
    "from copy import deepcopy\n",
    "\n",
    "def createNewSolution(solution):\n",
    "# POCETAK STUDENTSKOG KODA\n",
    "    new_solution = deepcopy(solution)\n",
    "    indices = random.sample(range(len(new_solution)), 2)\n",
    "    new_solution[indices[0]] = solution[indices[1]]\n",
    "    new_solution[indices[1]] = solution[indices[0]]\n",
    "    return new_solution\n",
    "# KRAJ STUDENTSKOG KODA"
   ]
  },
  {
   "cell_type": "markdown",
   "metadata": {},
   "source": [
    "Konačno, napisati funkciju $localSearch$ koja za datu matricu cene $C$ i broj resursa koje treba uspostaviti $p$ rešava problem p-medijane primenom lokalne pretrage.\n",
    "Uslov zaustavljanja je broj iteracija $iters$.\n",
    "\n",
    "Iz funkcije vratiti vrednost najboljeg rešenja i resurse koje treba uspostaviti."
   ]
  },
  {
   "cell_type": "code",
   "execution_count": null,
   "metadata": {},
   "outputs": [],
   "source": [
    "def localSearch(C, p, iters):\n",
    "# POCETAK STUDENTSKOG KODA\n",
    "    solution = initialize(len(C[0]), p)\n",
    "    value = calcSolutionValue(solution, C)\n",
    "    \n",
    "    for i in range(iters):\n",
    "        new_solution = createNewSolution(solution)\n",
    "        new_value = calcSolutionValue(new_solution, C)\n",
    "        \n",
    "        if new_value < value:\n",
    "            value = new_value\n",
    "            solution = deepcopy(new_solution)\n",
    "    \n",
    "    return solution, value\n",
    "# KRAJ STUDENTSKOG KODA"
   ]
  },
  {
   "cell_type": "code",
   "execution_count": null,
   "metadata": {},
   "outputs": [],
   "source": [
    "array, value = localSearch(C, p, 10)\n",
    "array, value"
   ]
  },
  {
   "cell_type": "markdown",
   "metadata": {},
   "source": [
    "Bonus - implementacija VNS"
   ]
  },
  {
   "cell_type": "code",
   "execution_count": null,
   "metadata": {},
   "outputs": [],
   "source": [
    "def shaking(solution, k):\n",
    "    new_solution = deepcopy(solution)\n",
    "    for i in range(k):\n",
    "        random_resource1 = random.randrange(0, len(new_solution))\n",
    "        random_resource2 = random.randrange(0, len(new_solution))\n",
    "        while(random_resource2 == random_resource1):\n",
    "            random_resource2 = random.randrange(0, len(new_solution))\n",
    "        new_solution[random_resource1] = solution[random_resource2]\n",
    "        new_solution[random_resource2] = solution[random_resource1]\n",
    "    return new_solution\n",
    "\n",
    "def VNS(C, p, k, iters, move_prob):\n",
    "    solution = initialize(len(C[0]), p)\n",
    "    value = calcSolutionValue(solution, C)\n",
    "    for i in range(iters):\n",
    "        for k in range(1, k):\n",
    "            new_solution = shaking(solution, k)\n",
    "            new_value = calcSolutionValue(new_solution, C)\n",
    "\n",
    "            if new_value < value or (new_value == value and random.random() < move_prob):\n",
    "                value = new_value\n",
    "                solution = deepcopy(new_solution)\n",
    "                break\n",
    "    return solution, value"
   ]
  },
  {
   "cell_type": "code",
   "execution_count": null,
   "metadata": {},
   "outputs": [],
   "source": [
    "array, value = VNS(C, p, 2, 10, 0.5)\n",
    "array, value"
   ]
  }
 ],
 "metadata": {
  "kernelspec": {
   "display_name": "Python 3 (ipykernel)",
   "language": "python",
   "name": "python3"
  },
  "language_info": {
   "codemirror_mode": {
    "name": "ipython",
    "version": 3
   },
   "file_extension": ".py",
   "mimetype": "text/x-python",
   "name": "python",
   "nbconvert_exporter": "python",
   "pygments_lexer": "ipython3",
   "version": "3.10.0"
  }
 },
 "nbformat": 4,
 "nbformat_minor": 4
}
