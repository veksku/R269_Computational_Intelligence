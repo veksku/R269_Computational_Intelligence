{
 "cells": [
  {
   "cell_type": "code",
   "execution_count": 1,
   "metadata": {},
   "outputs": [],
   "source": [
    "import random"
   ]
  },
  {
   "cell_type": "markdown",
   "metadata": {},
   "source": [
    "Data je matrica rastojanja između gradova $D$."
   ]
  },
  {
   "cell_type": "code",
   "execution_count": 2,
   "metadata": {},
   "outputs": [],
   "source": [
    "D = [[0,4,1,3],\n",
    "     [4,0,2,1],\n",
    "     [1,2,0,5],\n",
    "     [3,1,5,0]\n",
    "    ]"
   ]
  },
  {
   "cell_type": "markdown",
   "metadata": {},
   "source": [
    "Problem trgovačkog putnika: za dati skup gradova i rastojanja između njih, potrebno je odrediti najkraću rutu koja svaki grad posećuje tačno jednom, pri čemu je prvi grad ujedno i poslednji grad na putu."
   ]
  },
  {
   "cell_type": "markdown",
   "metadata": {},
   "source": [
    "Napisati funkciju $initialize$ koja za dati broj gradova $n$ konstruiše početno rešenje (proizvoljnu rutu) za trgovačkog putnika."
   ]
  },
  {
   "cell_type": "code",
   "execution_count": 3,
   "metadata": {},
   "outputs": [],
   "source": [
    "def initialize(n):\n",
    "# POCETAK STUDENTSKOG KODA\n",
    "    solution = [0 for _ in range(n)]\n",
    "    i = 1\n",
    "    while i < n:\n",
    "        index = int(random.random() * n-1)\n",
    "        if solution[index] == 0:\n",
    "            solution[index] = i\n",
    "            i+=1\n",
    "    return solution\n",
    "# KRAJ STUDENTSKOG KODA\n",
    "# solution je oblika [2, 3, 1, 0] tj solution[0] = x znaci da ce 0-ti grad ici u x-ti grad"
   ]
  },
  {
   "cell_type": "markdown",
   "metadata": {},
   "source": [
    "Napisati funkciju $calcSolutionValue$ koja za dato rešenje $solution$ i matricu rastojanja $D$ računa vrednost tog rešenja."
   ]
  },
  {
   "cell_type": "code",
   "execution_count": 4,
   "metadata": {},
   "outputs": [],
   "source": [
    "def calcSolutionValue(solution, D):\n",
    "# POCETAK STUDENTSKOG KODA\n",
    "    value = 0\n",
    "    i_prev = 0\n",
    "    for i in range(len(solution)):\n",
    "        value += D[i_prev][solution[i]]\n",
    "        i_prev = solution[i]\n",
    "    return value\n",
    "# KRAJ STUDENTSKOG KODA"
   ]
  },
  {
   "cell_type": "markdown",
   "metadata": {},
   "source": [
    "Napisati funkciju $createNewSolution$ koja malom izmenom datog trenutnog rešenja $solution$ konstruiše novo rešenje."
   ]
  },
  {
   "cell_type": "code",
   "execution_count": 5,
   "metadata": {},
   "outputs": [],
   "source": [
    "from copy import deepcopy\n",
    "\n",
    "def createNewSolution(solution):\n",
    "# POCETAK STUDENTSKOG KODA\n",
    "    new_solution = deepcopy(solution)\n",
    "    indexes = random.sample(range(len(solution)-1), 2)\n",
    "    new_solution[indexes[0]] = solution[indexes[1]]\n",
    "    new_solution[indexes[1]] = solution[indexes[0]]\n",
    "    return new_solution\n",
    "# KRAJ STUDENTSKOG KODA "
   ]
  },
  {
   "cell_type": "markdown",
   "metadata": {},
   "source": [
    "Konačno, napisati funkciju $simulatedAnnealing$ koja za datu matricu rastojanja $D$ rešava problem trgovačkog putnika primenom simuliranog kaljenja.\n",
    "Uslov zaustavljanja je broj iteracija $iters$.\n",
    "\n",
    "Za funkciju $p$ koristiti $\\frac{1}{\\sqrt{i}}$, gde je $i$ broj trenutne iteracije.\n",
    "\n",
    "Iz funkcije vratiti vrednost najboljeg rešenja i najbolju rutu."
   ]
  },
  {
   "cell_type": "code",
   "execution_count": 11,
   "metadata": {},
   "outputs": [],
   "source": [
    "def simulatedAnnealing(D, iters):\n",
    "# POCETAK STUDENTSKOG KODA\n",
    "    solution = initialize(len(D))\n",
    "    value = calcSolutionValue(solution, D)\n",
    "    best_solution = deepcopy(solution)\n",
    "    best_value = value\n",
    "\n",
    "    for i in range(1, iters):\n",
    "        new_solution = createNewSolution(solution)\n",
    "        new_value = calcSolutionValue(new_solution, D)\n",
    "\n",
    "        if new_value < value:\n",
    "            value = new_value\n",
    "            solution = deepcopy(new_solution)\n",
    "            if new_value < best_value:\n",
    "                best_value = new_value\n",
    "                best_solution = deepcopy(best_solution)\n",
    "        else:\n",
    "            p = 1.0 / i ** 0.5\n",
    "            q = random.random()\n",
    "            if q < p:\n",
    "                value = new_value\n",
    "                solution = deepcopy(new_solution)\n",
    "    if len(solution)> 8:\n",
    "        return best_value\n",
    "    temp = deepcopy(best_solution)\n",
    "    best_solution[0] = temp[-1]\n",
    "    best_solution[1:] = temp[0:-1]\n",
    "    return best_solution, best_value\n",
    "# KRAJ STUDENTSKOG KODA"
   ]
  },
  {
   "cell_type": "markdown",
   "metadata": {},
   "source": [
    "1. test primer (matrica rastojanja $D$)\n",
    "\n",
    "Optimalna vrednost: 7\n",
    "\n",
    "Optimalna ruta: 0 -> 2 -> 1 -> 3"
   ]
  },
  {
   "cell_type": "code",
   "execution_count": 23,
   "metadata": {},
   "outputs": [
    {
     "data": {
      "text/plain": [
       "([0, 1, 3, 2], 7)"
      ]
     },
     "execution_count": 23,
     "metadata": {},
     "output_type": "execute_result"
    }
   ],
   "source": [
    "simulatedAnnealing(D, 100)"
   ]
  },
  {
   "cell_type": "code",
   "execution_count": 24,
   "metadata": {},
   "outputs": [],
   "source": [
    "def readFile(filename):\n",
    "    with open(filename, 'r') as f:\n",
    "        numCities = [int(x) for x in f.readline().split()][0]\n",
    "        D = [[int(x) for x in f.readline().split()] for i in range(numCities)]\n",
    "        return D"
   ]
  },
  {
   "cell_type": "code",
   "execution_count": 25,
   "metadata": {},
   "outputs": [],
   "source": [
    "D_2 = readFile('tsp_input.txt')"
   ]
  },
  {
   "cell_type": "markdown",
   "metadata": {},
   "source": [
    "2. test primer (matrica rastojanja $D_2$)\n",
    "\n",
    "Optimalna vrednost: 27603"
   ]
  },
  {
   "cell_type": "code",
   "execution_count": 33,
   "metadata": {},
   "outputs": [
    {
     "data": {
      "text/plain": [
       "29014"
      ]
     },
     "execution_count": 33,
     "metadata": {},
     "output_type": "execute_result"
    }
   ],
   "source": [
    "simulatedAnnealing(D_2, 100000)"
   ]
  },
  {
   "cell_type": "code",
   "execution_count": null,
   "metadata": {},
   "outputs": [],
   "source": []
  }
 ],
 "metadata": {
  "kernelspec": {
   "display_name": "Python 3 (ipykernel)",
   "language": "python",
   "name": "python3"
  },
  "language_info": {
   "codemirror_mode": {
    "name": "ipython",
    "version": 3
   },
   "file_extension": ".py",
   "mimetype": "text/x-python",
   "name": "python",
   "nbconvert_exporter": "python",
   "pygments_lexer": "ipython3",
   "version": "3.10.0"
  }
 },
 "nbformat": 4,
 "nbformat_minor": 4
}
