{
 "cells": [
  {
   "cell_type": "markdown",
   "metadata": {},
   "source": [
    "## Zadatak 2.\n",
    "\n",
    "Jedna od modifikacija osnovne metode gradijentnog spusta je Barzilai-Borvejn metoda u kojoj se korak gradijentnog spusta izračunava na osnovu vrednosti gradijenata u dvema tačkama $x_n$ i $x_{n-1}$ po formuli$$\\gamma_n = \\frac{(x_n-x_{n-1})^T(\\nabla f(x_n)-\\nabla f(x_{n-1}))}{||\\nabla f(x_n)-\\nabla f(x_{n-1})||^2}$$za $n>=2$, a sa namerom da se aproksimira Njutnova metoda i ubrza ceo proces konvergencije."
   ]
  },
  {
   "cell_type": "code",
   "execution_count": 19,
   "metadata": {},
   "outputs": [],
   "source": [
    "import numpy as np\n",
    "from scipy import optimize as opt"
   ]
  },
  {
   "cell_type": "markdown",
   "metadata": {},
   "source": [
    "a) Implementirati Barzilai-Borvejn metodu koja za zadatu funkciju $f$ dveju promenljivih, njen gradijent $\\nabla f$, početnu tačku $x_0$ i vrednost koraka $\\gamma_0$ koji se koristi za izračunavanje tačke $x_1$ standardnom gradijentnom iteracijom izračunava minimum funkcije $f$. Algoritam zaustaviti ukoliko je broj iteracija veći od zadatog ograničenja $max\\_iterations$ ili ukoliko je norma gradijenta u tekućoj tački manja od zadate tačnosti $\\epsilon$.\n"
   ]
  },
  {
   "cell_type": "code",
   "execution_count": 20,
   "metadata": {},
   "outputs": [],
   "source": [
    "def gradient_descent(f, gradient, x0, korak, eps, iters):\n",
    "    result = {}\n",
    "    x = x0\n",
    "    for i in range(iters):\n",
    "        d = korak\n",
    "        x_new = x - d\n",
    "        if abs(f(x_new) - f(x)) < eps:\n",
    "            result['converged'] = True\n",
    "            break\n",
    "        \n",
    "        brojilac = np.transpose(x_new - x) * (gradient(x_new) - gradient(x))\n",
    "        imenilac = np.linalg.norm(gradient(x_new) - gradient(x))\n",
    "        korak = brojilac / imenilac\n",
    "        x = x_new\n",
    "    else:\n",
    "        result['converged'] = False\n",
    "\n",
    "    result['num_iters'] = i\n",
    "    result['x'] = x_new\n",
    "\n",
    "    return result\n",
    "    # return None\n",
    "\n",
    "def gradient(x):\n",
    "    return np.array([400*x[0]**3+2*x[0]-400*x[0]*x[1]-2, 200*(x[1]-x[0]**2)])"
   ]
  },
  {
   "cell_type": "markdown",
   "metadata": {},
   "source": [
    "b) Primeniti implementiranu metodu na funkciju $$𝑓(a,b)=(1−a)^2+100(b−a^2)^2$$\n",
    "\n",
    "Za početnu tačku uzeti $(2.1,1.3)$, za vrednost koraka $\\gamma_0$ u prvoj iteraciji $0.01$, za maksimalan broj iteracija $100$, a za tačnost epsilon $10^{-8}$. "
   ]
  },
  {
   "cell_type": "code",
   "execution_count": 21,
   "metadata": {},
   "outputs": [
    {
     "data": {
      "text/plain": [
       "({'converged': False, 'num_iters': 99, 'x': array([1.65655195, 1.29136783])},\n",
       " 211.49284021122475)"
      ]
     },
     "execution_count": 21,
     "metadata": {},
     "output_type": "execute_result"
    }
   ],
   "source": [
    "def f(x):\n",
    "    return (1-x[0])**2 + 100*(x[1]-x[0]**2)**2\n",
    "\n",
    "x0 = np.array([2.1, 1.3])\n",
    "korak = 0.01\n",
    "max_iters = 100\n",
    "eps = 10**(-8)\n",
    "\n",
    "solution = gradient_descent(f, gradient, x0, korak, eps, max_iters)\n",
    "solution, f(solution['x'])"
   ]
  },
  {
   "cell_type": "markdown",
   "metadata": {},
   "source": [
    "c) Uporediti ovako dobijeno rešenje sa rešenjem neke od funkcija biblioteke `scipy.optimize`."
   ]
  },
  {
   "cell_type": "code",
   "execution_count": 4,
   "metadata": {},
   "outputs": [
    {
     "name": "stdout",
     "output_type": "stream",
     "text": [
      "Optimization terminated successfully.\n",
      "         Current function value: 0.000000\n",
      "         Iterations: 84\n",
      "         Function evaluations: 163\n"
     ]
    }
   ],
   "source": [
    "res = opt.minimize(f, x0, method='nelder-mead', options={'xatol': 1e-8, 'disp': True})"
   ]
  }
 ],
 "metadata": {
  "kernelspec": {
   "display_name": "Python 3 (ipykernel)",
   "language": "python",
   "name": "python3"
  },
  "language_info": {
   "codemirror_mode": {
    "name": "ipython",
    "version": 3
   },
   "file_extension": ".py",
   "mimetype": "text/x-python",
   "name": "python",
   "nbconvert_exporter": "python",
   "pygments_lexer": "ipython3",
   "version": "3.10.0"
  }
 },
 "nbformat": 4,
 "nbformat_minor": 4
}
