{
 "cells": [
  {
   "cell_type": "markdown",
   "metadata": {},
   "source": [
    "Linearna regresija"
   ]
  },
  {
   "cell_type": "code",
   "execution_count": null,
   "metadata": {},
   "outputs": [],
   "source": [
    "solution, rss, _, _ = np.linalg.lstsq(A, y, rcond=None)\n",
    "#solution = w0, w1...."
   ]
  },
  {
   "cell_type": "markdown",
   "metadata": {},
   "source": [
    "Gradijentni spust"
   ]
  },
  {
   "cell_type": "code",
   "execution_count": null,
   "metadata": {},
   "outputs": [],
   "source": [
    "def gradient_descent(f, x0, alpha, num_iters, eps):\n",
    "    result = {}\n",
    "    x = x0\n",
    "    for i in range(num_iters):\n",
    "        x_new = x - alpha*gradient(x)\n",
    "        if abs(f(x_new) - f(x)) < eps:\n",
    "            result['converged'] = True\n",
    "            break\n",
    "        x = x_new\n",
    "    else:\n",
    "        result['converged'] = False\n",
    "    result['iter'] = i\n",
    "    result['x'] = x\n",
    "    return result"
   ]
  },
  {
   "cell_type": "code",
   "execution_count": null,
   "metadata": {},
   "outputs": [],
   "source": [
    "def momentum(f, x0, alpha, num_iters, eps, beta):\n",
    "    x = x0\n",
    "    result = {}\n",
    "    d = 0\n",
    "    for i in range(num_iters):\n",
    "        d = beta * d - alpha * gradient(x)\n",
    "        x_new = x + d\n",
    "        if abs(f(x_new) - f(x)) < eps:\n",
    "            result['converged'] = True\n",
    "            break\n",
    "        x = x_new\n",
    "    else:\n",
    "        result['converged'] = False\n",
    "    result['iter'] = i\n",
    "    result['x'] = x\n",
    "    return result"
   ]
  },
  {
   "cell_type": "code",
   "execution_count": null,
   "metadata": {},
   "outputs": [],
   "source": [
    "def nesterov(f, x0, alpha, num_iters, eps, beta):\n",
    "    x = x0\n",
    "    result = {}\n",
    "    d = 0\n",
    "    for i in range(num_iters):\n",
    "        d = beta * d\n",
    "        d = d - alpha * gradient(x + d)\n",
    "        x_new = x + d\n",
    "        if abs(f(x_new) - f(x)) < eps:\n",
    "            result['converged'] = True\n",
    "            break\n",
    "        x = x_new\n",
    "    else:\n",
    "        result['converged'] = False\n",
    "    result['iter'] = i\n",
    "    result['x'] = x\n",
    "    return result"
   ]
  },
  {
   "cell_type": "code",
   "execution_count": null,
   "metadata": {},
   "outputs": [],
   "source": [
    "def adam(f, x0, alpha, num_iters, eps, beta1, beta2, delta):\n",
    "    x = x0\n",
    "    result = {}\n",
    "    m = 0\n",
    "    v = 0\n",
    "    for i in range(1, num_iters+1):\n",
    "        grad = gradient(x)\n",
    "        m = beta1 * m + (1 - beta1) * grad \n",
    "        v = beta2 * v + (1 - beta2) * grad**2\n",
    "        m_hat = m / (1 - beta1**i)\n",
    "        v_hat = v / (1 - beta2**i)\n",
    "        x_new = x - m_hat / (np.sqrt(v_hat) + delta)\n",
    "        if abs(f(x_new) - f(x)) < eps:\n",
    "            result['converged'] = True\n",
    "            break\n",
    "        x = x_new\n",
    "    else:\n",
    "        result['converged'] = False\n",
    "    result['iter'] = i\n",
    "    result['x'] = x\n",
    "    return result"
   ]
  },
  {
   "cell_type": "markdown",
   "metadata": {},
   "source": [
    "NN predikcija"
   ]
  },
  {
   "cell_type": "code",
   "execution_count": null,
   "metadata": {},
   "outputs": [],
   "source": [
    "from sklearn.preprocessing import StandardScaler\n",
    "scaler = StandardScaler()\n",
    "scaler.fit(X_train)\n",
    "X_train = scaler.transform(X_train)\n",
    "X_test = scaler.transform(X_test)\n",
    "\n",
    "data = load_breast_cancer()\n",
    "X = data['data']\n",
    "y = data['target']"
   ]
  }
 ],
 "metadata": {
  "kernelspec": {
   "display_name": "Python 3 (ipykernel)",
   "language": "python",
   "name": "python3"
  },
  "language_info": {
   "codemirror_mode": {
    "name": "ipython",
    "version": 3
   },
   "file_extension": ".py",
   "mimetype": "text/x-python",
   "name": "python",
   "nbconvert_exporter": "python",
   "pygments_lexer": "ipython3",
   "version": "3.10.0"
  }
 },
 "nbformat": 4,
 "nbformat_minor": 4
}
