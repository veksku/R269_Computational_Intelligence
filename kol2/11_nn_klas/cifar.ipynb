{
 "cells": [
  {
   "cell_type": "code",
   "execution_count": null,
   "metadata": {
    "id": "1rroMm2i-9kK"
   },
   "outputs": [],
   "source": [
    "from keras.datasets import cifar10\n",
    "from keras.utils import to_categorical\n",
    "from keras.models import Sequential\n",
    "from keras.layers import Conv2D, Dense, MaxPooling2D, Flatten, Dropout\n",
    "from keras.losses import SparseCategoricalCrossentropy\n",
    "from matplotlib import pyplot as plt"
   ]
  },
  {
   "cell_type": "markdown",
   "metadata": {
    "id": "XvJG3MO0-9kM"
   },
   "source": [
    "Učitati skup podataka $cifar10$ i za obučavanje koristiti prvih $10000$ slika iz skupa za obučavanje, a za testiranje koristiti prvih $1000$ slika iz skupa za testiranje."
   ]
  },
  {
   "cell_type": "code",
   "execution_count": null,
   "metadata": {
    "id": "u0vwBMXr-9kO"
   },
   "outputs": [],
   "source": []
  },
  {
   "cell_type": "markdown",
   "metadata": {
    "id": "f9_nPiQl-9kP"
   },
   "source": [
    "Izvršiti normalizaciju piksela i eventualno promeniti kodiranje ciljne promenljive."
   ]
  },
  {
   "cell_type": "code",
   "execution_count": null,
   "metadata": {
    "id": "XeLaa6Iv-9kP"
   },
   "outputs": [],
   "source": []
  },
  {
   "cell_type": "code",
   "execution_count": null,
   "metadata": {
    "colab": {
     "base_uri": "https://localhost:8080/"
    },
    "id": "Cq58VzF2qoAM",
    "outputId": "f0ab87b1-9e83-4718-cdd8-bab95148404a"
   },
   "outputs": [],
   "source": []
  },
  {
   "cell_type": "markdown",
   "metadata": {
    "id": "Ql3Ggg2H-9kP"
   },
   "source": [
    "Napraviti konvolutivnu neuronsku mrežu sa sledećom arhitekturom:\n",
    "- Konvolutivni sloj sa $32$ filtera veličine $3 \\times 3$ i ReLu aktivacionom funkcijom\n",
    "- Konvolutivni sloj sa $32$ filtera veličine $3 \\times 3$ i ReLu aktivacionom funkcijom\n",
    "- Agregacioni sloj sa veličinom prozora $2 \\times 2$\n",
    "- Konvolutivni sloj sa $64$ filtera veličine $3 \\times 3$ i ReLu aktivacionom funkcijom\n",
    "- Konvolutivni sloj sa $64$ filtera veličine $3 \\times 3$ i ReLu aktivacionom funkcijom\n",
    "- Agregacioni sloj sa veličinom prozora $2 \\times 2$\n",
    "- Sloj za ravnanje (Flatten)\n",
    "- Potpuno povezani sloj sa $64$ neurona i ReLu aktivacionom funkcijom\n",
    "- Potpuno povezani sloj sa brojem neurona jednakim broju klasa i softmax aktivacionom funkcijom"
   ]
  },
  {
   "cell_type": "code",
   "execution_count": null,
   "metadata": {
    "id": "C3F_NopN-9kP"
   },
   "outputs": [],
   "source": []
  },
  {
   "cell_type": "markdown",
   "metadata": {
    "id": "av5B11Xo-9kP"
   },
   "source": [
    "Obučiti model - postaviti veličinu paketa (batch size) na $64$, broj epoha na $10$.\n",
    "\n",
    "Iskoristiti $20\\%$ trening podataka za validaciju."
   ]
  },
  {
   "cell_type": "code",
   "execution_count": null,
   "metadata": {
    "id": "xfExhiCy-9kQ"
   },
   "outputs": [],
   "source": []
  },
  {
   "cell_type": "markdown",
   "metadata": {
    "id": "LWpUsq8--9kQ"
   },
   "source": [
    "Nacrtati grafik promene funkcije greške kroz epohe na skupu za obučavanje i za validaciju."
   ]
  },
  {
   "cell_type": "code",
   "execution_count": null,
   "metadata": {
    "id": "xAP5J1wo-9kQ"
   },
   "outputs": [],
   "source": []
  },
  {
   "cell_type": "markdown",
   "metadata": {
    "id": "ijeALDX0-9kQ"
   },
   "source": [
    "Nacrtati grafik promene tačnosti kroz epohe na skupu za obučavanje i za validaciju."
   ]
  },
  {
   "cell_type": "code",
   "execution_count": null,
   "metadata": {
    "id": "kJ1pHgCS-9kQ"
   },
   "outputs": [],
   "source": []
  },
  {
   "cell_type": "markdown",
   "metadata": {
    "id": "HZcDjl39-9kQ"
   },
   "source": [
    "Izvršiti evaluaciju modela na skupu za testiranje."
   ]
  },
  {
   "cell_type": "code",
   "execution_count": null,
   "metadata": {
    "id": "jEzCBjE0-9kQ"
   },
   "outputs": [],
   "source": []
  },
  {
   "cell_type": "markdown",
   "metadata": {
    "id": "igZptQES-9kQ"
   },
   "source": [
    "Napraviti novi model koji ima istu arhitekturu kao prethodni, ali dodatno koristi regularizaciju izostavljanjem - ima $Dropout$ sloj sa faktorom $0.2$ posle svakog agregacionog sloja i između dva potpuno povezana sloja."
   ]
  },
  {
   "cell_type": "code",
   "execution_count": null,
   "metadata": {
    "id": "sRCiF7-p-9kQ"
   },
   "outputs": [],
   "source": []
  },
  {
   "cell_type": "markdown",
   "metadata": {
    "id": "h9D0WbO9-9kR"
   },
   "source": [
    "Obučiti novi model sa istim parametrima kao kod starog modela."
   ]
  },
  {
   "cell_type": "code",
   "execution_count": null,
   "metadata": {
    "id": "FQP8Idaz-9kR"
   },
   "outputs": [],
   "source": []
  },
  {
   "cell_type": "markdown",
   "metadata": {
    "id": "YdSYJjZU-9kR"
   },
   "source": [
    "Nacrtati oba grafika i za novi model."
   ]
  },
  {
   "cell_type": "code",
   "execution_count": null,
   "metadata": {
    "id": "8HpP_LYT-9kR"
   },
   "outputs": [],
   "source": []
  },
  {
   "cell_type": "code",
   "execution_count": null,
   "metadata": {
    "id": "aVlhvlQouYGZ"
   },
   "outputs": [],
   "source": []
  },
  {
   "cell_type": "markdown",
   "metadata": {
    "id": "Bo2140aq-9kR"
   },
   "source": [
    "Da li poređenjem ova dva grafika sa prethodna dva možete da zaključite koji model se bolje ponaša i zašto?"
   ]
  },
  {
   "cell_type": "markdown",
   "metadata": {
    "id": "J2U0SS8Ouf6k"
   },
   "source": [
    "-\n",
    "odgovor\n"
   ]
  },
  {
   "cell_type": "code",
   "execution_count": null,
   "metadata": {
    "id": "3qxDv1SqvIeJ"
   },
   "outputs": [],
   "source": []
  }
 ],
 "metadata": {
  "accelerator": "TPU",
  "colab": {
   "provenance": []
  },
  "kernelspec": {
   "display_name": "Python 3 (ipykernel)",
   "language": "python",
   "name": "python3"
  },
  "language_info": {
   "codemirror_mode": {
    "name": "ipython",
    "version": 3
   },
   "file_extension": ".py",
   "mimetype": "text/x-python",
   "name": "python",
   "nbconvert_exporter": "python",
   "pygments_lexer": "ipython3",
   "version": "3.10.0"
  }
 },
 "nbformat": 4,
 "nbformat_minor": 4
}
