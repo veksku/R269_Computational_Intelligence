{
 "cells": [
  {
   "cell_type": "code",
   "execution_count": 1,
   "metadata": {},
   "outputs": [],
   "source": [
    "import torch\n",
    "from torch import nn\n",
    "from torch import optim\n",
    "from torch.utils.data import Dataset, DataLoader\n",
    "from matplotlib import pyplot as plt"
   ]
  },
  {
   "cell_type": "code",
   "execution_count": 2,
   "metadata": {},
   "outputs": [],
   "source": [
    "from torchvision import datasets, transforms"
   ]
  },
  {
   "cell_type": "code",
   "execution_count": 3,
   "metadata": {},
   "outputs": [],
   "source": [
    "train_dataset = datasets.MNIST(root='../data', train=True, download=True, transform=transforms.ToTensor())\n",
    "test_dataset = datasets.MNIST(root='../data', train=False, download=True, transform=transforms.ToTensor())"
   ]
  },
  {
   "cell_type": "code",
   "execution_count": 4,
   "metadata": {},
   "outputs": [
    {
     "data": {
      "text/plain": [
       "<matplotlib.image.AxesImage at 0x25eb72b9b70>"
      ]
     },
     "execution_count": 4,
     "metadata": {},
     "output_type": "execute_result"
    },
    {
     "data": {
      "image/png": "[encoded data removed]",
      "text/plain": [
       "<Figure size 640x480 with 1 Axes>"
      ]
     },
     "metadata": {},
     "output_type": "display_data"
    }
   ],
   "source": [
    "img, label = train_dataset[0]\n",
    "# print(img)\n",
    "plt.imshow(img.numpy().reshape(28,28), cmap='gray')"
   ]
  },
  {
   "cell_type": "code",
   "execution_count": 5,
   "metadata": {
    "id": "49ZN0JLW-t-l"
   },
   "outputs": [],
   "source": [
    "import torch.nn.functional as F"
   ]
  },
  {
   "cell_type": "code",
   "execution_count": 6,
   "metadata": {},
   "outputs": [
    {
     "data": {
      "text/plain": [
       "torch.Size([1, 28, 28])"
      ]
     },
     "execution_count": 6,
     "metadata": {},
     "output_type": "execute_result"
    }
   ],
   "source": [
    "train_dataset[0][0].shape"
   ]
  },
  {
   "cell_type": "code",
   "execution_count": 7,
   "metadata": {
    "id": "X_kijMMnMLXI"
   },
   "outputs": [],
   "source": [
    "class ConvNet(nn.Module):\n",
    "\n",
    "    def __init__(self):\n",
    "        super().__init__()\n",
    "\n",
    "        self.layer1 = nn.Conv2d(1, 16, 3)\n",
    "        self.layer2 = nn.Conv2d(16, 32, 3)\n",
    "        self.pool = nn.MaxPool2d(2)\n",
    "        self.flatten = nn.Flatten(start_dim=1)\n",
    "        self.fc = nn.Linear(800, 10)\n",
    "        # nn.LazyLinear(10)\n",
    "\n",
    "    def forward(self, x):\n",
    "        # print(x.shape)\n",
    "        x = F.relu(self.layer1(x))\n",
    "        # print(x.shape)\n",
    "        x = self.pool(x)\n",
    "        # print(x.shape)\n",
    "        x = F.relu(self.layer2(x))\n",
    "        # print(x.shape)\n",
    "        x = self.pool(x)\n",
    "        # print(x.shape)\n",
    "        x = self.flatten(x)\n",
    "        # print(x.shape)\n",
    "        return self.fc(x)"
   ]
  },
  {
   "cell_type": "code",
   "execution_count": 8,
   "metadata": {
    "id": "Cc9C6N2Z7kon"
   },
   "outputs": [
    {
     "data": {
      "text/plain": [
       "tensor([[-0.0067,  0.0008,  0.0509, -0.0787,  0.1333, -0.0471, -0.0927,  0.0334,\n",
       "          0.0172, -0.0188]], grad_fn=<AddmmBackward0>)"
      ]
     },
     "execution_count": 8,
     "metadata": {},
     "output_type": "execute_result"
    }
   ],
   "source": [
    "model = ConvNet()\n",
    "loss_fn = nn.CrossEntropyLoss()\n",
    "optimizer = optim.Adam(model.parameters())\n",
    "model(train_dataset[0][0].reshape(1,1,28,28))"
   ]
  },
  {
   "cell_type": "code",
   "execution_count": 9,
   "metadata": {
    "id": "QovHltYVA3Ff"
   },
   "outputs": [],
   "source": [
    "train_dataloader = DataLoader(train_dataset, batch_size=32, shuffle=True)\n",
    "test_dataloader = DataLoader(test_dataset, batch_size=32, shuffle=True)"
   ]
  },
  {
   "cell_type": "code",
   "execution_count": 10,
   "metadata": {},
   "outputs": [],
   "source": [
    "def train_loop(dataloader, model, loss_fn, optimizer, device):\n",
    "    model.train()\n",
    "    for X, y in dataloader:\n",
    "        X, y = X.to(device), y.to(device)\n",
    "        preds = model(X)\n",
    "        loss = loss_fn(preds, y)\n",
    "\n",
    "        # backpropagation - racunanje gradijenta\n",
    "        loss.backward()\n",
    "        # x_new = x - lr * grad\n",
    "        optimizer.step()\n",
    "        # necemo da sabiramo sve gradijente\n",
    "        optimizer.zero_grad()"
   ]
  },
  {
   "cell_type": "code",
   "execution_count": 11,
   "metadata": {},
   "outputs": [],
   "source": [
    "def test_loop(dataloader, model, loss_fn, device):\n",
    "    model.eval()\n",
    "    with torch.no_grad():\n",
    "        total_loss = 0\n",
    "        num_same = 0\n",
    "        for X, y in dataloader:\n",
    "            X, y = X.to(device), y.to(device)\n",
    "            outputs = model(X)\n",
    "            loss = loss_fn(outputs, y)\n",
    "            total_loss += loss.item()\n",
    "\n",
    "            if len(outputs.shape) == 1: # accuracy za dve klase\n",
    "                preds = outputs > 0\n",
    "                num_same += sum(preds == y).item()\n",
    "            else:\n",
    "                _, indices = torch.max(outputs, 1) # vise klasa - maks po dimenziji 1 jer je outputs.shape = (batch_size, num_classes)\n",
    "                num_same += sum(indices == y).item()\n",
    "\n",
    "        print(f'Average loss: {total_loss / len(dataloader.dataset)}')\n",
    "        print(f'Accuracy: {num_same / len(dataloader.dataset)}')"
   ]
  },
  {
   "cell_type": "code",
   "execution_count": 12,
   "metadata": {
    "colab": {
     "base_uri": "https://localhost:8080/"
    },
    "id": "DSoAKUoZ_YdQ",
    "outputId": "9458709c-61a6-4216-833c-9670a07378ee"
   },
   "outputs": [
    {
     "name": "stdout",
     "output_type": "stream",
     "text": [
      "Average loss: 0.0021744779424741865\n",
      "Accuracy: 0.9778\n"
     ]
    }
   ],
   "source": [
    "device = 'cuda' if torch.cuda.is_available() else 'cpu'\n",
    "model.to(device)\n",
    "\n",
    "num_epochs = 1\n",
    "for epoch in range(num_epochs):\n",
    "    train_loop(train_dataloader, model, loss_fn, optimizer, device)\n",
    "    test_loop(test_dataloader, model, loss_fn, device)"
   ]
  },
  {
   "cell_type": "code",
   "execution_count": 13,
   "metadata": {
    "colab": {
     "base_uri": "https://localhost:8080/"
    },
    "id": "BWpN26eeIydt",
    "outputId": "ee0f78f8-7754-40e0-9403-6d4eda6f4d00"
   },
   "outputs": [
    {
     "data": {
      "text/plain": [
       "ConvNet(\n",
       "  (layer1): Conv2d(1, 16, kernel_size=(3, 3), stride=(1, 1))\n",
       "  (layer2): Conv2d(16, 32, kernel_size=(3, 3), stride=(1, 1))\n",
       "  (pool): MaxPool2d(kernel_size=2, stride=2, padding=0, dilation=1, ceil_mode=False)\n",
       "  (flatten): Flatten(start_dim=1, end_dim=-1)\n",
       "  (fc): Linear(in_features=800, out_features=10, bias=True)\n",
       ")"
      ]
     },
     "execution_count": 13,
     "metadata": {},
     "output_type": "execute_result"
    }
   ],
   "source": [
    "model.to(device)"
   ]
  },
  {
   "cell_type": "code",
   "execution_count": 16,
   "metadata": {
    "colab": {
     "base_uri": "https://localhost:8080/",
     "height": 1000
    },
    "id": "DS-nxv7R_eMK",
    "outputId": "b9de6a65-ea82-4e4d-eba7-e2f4644c7a1d"
   },
   "outputs": [
    {
     "name": "stdout",
     "output_type": "stream",
     "text": [
      "Predicted class: 7\n",
      "Real class: tensor([7], device='cuda:0')\n",
      "Predicted class: 2\n",
      "Real class: tensor([2], device='cuda:0')\n",
      "Predicted class: 1\n",
      "Real class: tensor([1], device='cuda:0')\n",
      "Predicted class: 0\n",
      "Real class: tensor([0], device='cuda:0')\n",
      "Predicted class: 4\n",
      "Real class: tensor([4], device='cuda:0')\n",
      "Predicted class: 1\n",
      "Real class: tensor([1], device='cuda:0')\n",
      "Predicted class: 4\n",
      "Real class: tensor([4], device='cuda:0')\n",
      "Predicted class: 9\n",
      "Real class: tensor([9], device='cuda:0')\n",
      "Predicted class: 5\n",
      "Real class: tensor([5], device='cuda:0')\n",
      "Predicted class: 9\n",
      "Real class: tensor([9], device='cuda:0')\n",
      "Predicted class: 0\n",
      "Real class: tensor([0], device='cuda:0')\n",
      "Predicted class: 6\n",
      "Real class: tensor([6], device='cuda:0')\n",
      "Predicted class: 9\n",
      "Real class: tensor([9], device='cuda:0')\n",
      "Predicted class: 0\n",
      "Real class: tensor([0], device='cuda:0')\n",
      "Predicted class: 1\n",
      "Real class: tensor([1], device='cuda:0')\n",
      "Predicted class: 5\n",
      "Real class: tensor([5], device='cuda:0')\n",
      "Predicted class: 9\n",
      "Real class: tensor([9], device='cuda:0')\n",
      "Predicted class: 7\n",
      "Real class: tensor([7], device='cuda:0')\n",
      "Predicted class: 2\n",
      "Real class: tensor([3], device='cuda:0')\n",
      "Predicted class: 4\n",
      "Real class: tensor([4], device='cuda:0')\n",
      "Predicted class: 9\n",
      "Real class: tensor([9], device='cuda:0')\n"
     ]
    },
    {
     "data": {
      "image/png": "[encoded data removed]",
      "text/plain": [
       "<Figure size 640x480 with 1 Axes>"
      ]
     },
     "metadata": {},
     "output_type": "display_data"
    }
   ],
   "source": [
    "test_dataloader = DataLoader(test_dataset, batch_size=1)\n",
    "\n",
    "for i, (X, y) in enumerate(test_dataloader):\n",
    "    X, y = X.to(device), y.to(device)\n",
    "    preds = model(X)\n",
    "    print(f'Predicted class: {torch.argmax(preds)}')\n",
    "    print(f'Real class: {y}')\n",
    "    plt.imshow(X.cpu().numpy().reshape(28,28), cmap='gray')\n",
    "    if i == 20:\n",
    "        break"
   ]
  },
  {
   "cell_type": "code",
   "execution_count": null,
   "metadata": {},
   "outputs": [],
   "source": []
  }
 ],
 "metadata": {
  "accelerator": "GPU",
  "colab": {
   "gpuType": "T4",
   "provenance": []
  },
  "kernelspec": {
   "display_name": "Python 3 (ipykernel)",
   "language": "python",
   "name": "python3"
  },
  "language_info": {
   "codemirror_mode": {
    "name": "ipython",
    "version": 3
   },
   "file_extension": ".py",
   "mimetype": "text/x-python",
   "name": "python",
   "nbconvert_exporter": "python",
   "pygments_lexer": "ipython3",
   "version": "3.10.0"
  }
 },
 "nbformat": 4,
 "nbformat_minor": 4
}
