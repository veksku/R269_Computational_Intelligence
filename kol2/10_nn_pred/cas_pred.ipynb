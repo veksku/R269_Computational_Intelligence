{
 "cells": [
  {
   "cell_type": "code",
   "execution_count": 1,
   "metadata": {
    "id": "tuLbDLjQF8wv"
   },
   "outputs": [],
   "source": [
    "import torch\n",
    "from torch import nn\n",
    "from torch import optim\n",
    "from torch.nn import BCEWithLogitsLoss\n",
    "from torch.utils.data import Dataset, DataLoader"
   ]
  },
  {
   "cell_type": "code",
   "execution_count": 2,
   "metadata": {
    "id": "BzJ2M9ktLUkd"
   },
   "outputs": [],
   "source": [
    "from sklearn.datasets import load_breast_cancer\n",
    "from sklearn.model_selection import train_test_split"
   ]
  },
  {
   "cell_type": "code",
   "execution_count": 3,
   "metadata": {
    "id": "UNomCQIJQA4I"
   },
   "outputs": [],
   "source": [
    "X, y = load_breast_cancer(return_X_y=True)"
   ]
  },
  {
   "cell_type": "code",
   "execution_count": 4,
   "metadata": {
    "id": "fgeQRDbdQT98"
   },
   "outputs": [],
   "source": [
    "X_train, X_test, y_train, y_test = train_test_split(X, y, train_size=0.8)"
   ]
  },
  {
   "cell_type": "code",
   "execution_count": 5,
   "metadata": {
    "colab": {
     "base_uri": "https://localhost:8080/"
    },
    "id": "JnUGIQIKQZBD",
    "outputId": "be214e14-fa13-45b2-f842-abcbd36b09c6"
   },
   "outputs": [
    {
     "data": {
      "text/plain": [
       "(455, 30)"
      ]
     },
     "execution_count": 5,
     "metadata": {},
     "output_type": "execute_result"
    }
   ],
   "source": [
    "X_train.shape"
   ]
  },
  {
   "cell_type": "code",
   "execution_count": 6,
   "metadata": {
    "colab": {
     "base_uri": "https://localhost:8080/"
    },
    "id": "227VSnW6QaU8",
    "outputId": "f3518b01-a455-44ff-8707-f80e0c52e73f"
   },
   "outputs": [
    {
     "data": {
      "text/plain": [
       "(114, 30)"
      ]
     },
     "execution_count": 6,
     "metadata": {},
     "output_type": "execute_result"
    }
   ],
   "source": [
    "X_test.shape"
   ]
  },
  {
   "cell_type": "code",
   "execution_count": 7,
   "metadata": {
    "colab": {
     "base_uri": "https://localhost:8080/"
    },
    "id": "MvG1ST_pQa7n",
    "outputId": "e8aa1879-80f5-42b1-9215-0dcd411ff57f"
   },
   "outputs": [
    {
     "data": {
      "text/plain": [
       "array([1.385e+01, 1.721e+01, 8.844e+01, 5.887e+02, 8.785e-02, 6.136e-02,\n",
       "       1.420e-02, 1.141e-02, 1.614e-01, 5.890e-02, 2.185e-01, 8.561e-01,\n",
       "       1.495e+00, 1.791e+01, 4.599e-03, 9.169e-03, 9.127e-03, 4.814e-03,\n",
       "       1.247e-02, 1.708e-03, 1.549e+01, 2.358e+01, 1.003e+02, 7.259e+02,\n",
       "       1.157e-01, 1.350e-01, 8.115e-02, 5.104e-02, 2.364e-01, 7.182e-02])"
      ]
     },
     "execution_count": 7,
     "metadata": {},
     "output_type": "execute_result"
    }
   ],
   "source": [
    "X_train[0]"
   ]
  },
  {
   "cell_type": "code",
   "execution_count": 8,
   "metadata": {
    "id": "uqXtPo6yQdra"
   },
   "outputs": [],
   "source": [
    "from sklearn.preprocessing import StandardScaler"
   ]
  },
  {
   "cell_type": "code",
   "execution_count": 9,
   "metadata": {
    "id": "kZYb_KHyQkX_"
   },
   "outputs": [],
   "source": [
    "scaler = StandardScaler()\n",
    "X_train = scaler.fit_transform(X_train)\n",
    "X_test = scaler.transform(X_test)"
   ]
  },
  {
   "cell_type": "code",
   "execution_count": 10,
   "metadata": {
    "colab": {
     "base_uri": "https://localhost:8080/"
    },
    "id": "knVFOeSMQwaL",
    "outputId": "e792413c-ed43-41a2-b34c-dc5fd0d8aba7"
   },
   "outputs": [
    {
     "data": {
      "text/plain": [
       "array([-0.06311549, -0.50460789, -0.13094595, -0.17364446, -0.60119443,\n",
       "       -0.82855984, -0.93351952, -0.96577715, -0.74542199, -0.56629043,\n",
       "       -0.70821954, -0.6821818 , -0.71162563, -0.52803363, -0.83329326,\n",
       "       -0.92566762, -0.72324232, -1.15703714, -1.02599761, -0.76747021,\n",
       "       -0.14991844, -0.36191715, -0.19429025, -0.26442652, -0.71596219,\n",
       "       -0.76443944, -0.90271605, -0.95495613, -0.8865722 , -0.67406481])"
      ]
     },
     "execution_count": 10,
     "metadata": {},
     "output_type": "execute_result"
    }
   ],
   "source": [
    "X_train[0]"
   ]
  },
  {
   "cell_type": "code",
   "execution_count": 11,
   "metadata": {
    "id": "zR6pchjgQzFI"
   },
   "outputs": [],
   "source": [
    "class OurDataset(Dataset):\n",
    "    def __init__(self, X, y):\n",
    "        self.X = torch.tensor(X, dtype=torch.float32)\n",
    "        self.y = torch.tensor(y, dtype=torch.float32)\n",
    "\n",
    "    def __len__(self):\n",
    "        return len(self.X)\n",
    "\n",
    "    def __getitem__(self, i):\n",
    "        return self.X[i], self.y[i]"
   ]
  },
  {
   "cell_type": "code",
   "execution_count": 12,
   "metadata": {
    "colab": {
     "base_uri": "https://localhost:8080/"
    },
    "id": "BV1IVWoEROMA",
    "outputId": "69b7d45b-fd61-4f76-d7f8-7a9f13e0cd49"
   },
   "outputs": [
    {
     "data": {
      "text/plain": [
       "455"
      ]
     },
     "execution_count": 12,
     "metadata": {},
     "output_type": "execute_result"
    }
   ],
   "source": [
    "train_dataset = OurDataset(X_train, y_train)\n",
    "len(train_dataset)"
   ]
  },
  {
   "cell_type": "code",
   "execution_count": 13,
   "metadata": {
    "colab": {
     "base_uri": "https://localhost:8080/"
    },
    "id": "lKZvvhi1Rcxd",
    "outputId": "04c099c5-392d-44dd-d7de-f4d78cb4ba43"
   },
   "outputs": [
    {
     "data": {
      "text/plain": [
       "(tensor([-0.0631, -0.5046, -0.1309, -0.1736, -0.6012, -0.8286, -0.9335, -0.9658,\n",
       "         -0.7454, -0.5663, -0.7082, -0.6822, -0.7116, -0.5280, -0.8333, -0.9257,\n",
       "         -0.7232, -1.1570, -1.0260, -0.7675, -0.1499, -0.3619, -0.1943, -0.2644,\n",
       "         -0.7160, -0.7644, -0.9027, -0.9550, -0.8866, -0.6741]),\n",
       " tensor(1.))"
      ]
     },
     "execution_count": 13,
     "metadata": {},
     "output_type": "execute_result"
    }
   ],
   "source": [
    "train_dataset[0]"
   ]
  },
  {
   "cell_type": "code",
   "execution_count": 14,
   "metadata": {
    "id": "G7vMJ-JSRep-"
   },
   "outputs": [],
   "source": [
    "test_dataset = OurDataset(X_test, y_test)\n",
    "test_dataloader = DataLoader(test_dataset, batch_size=16)"
   ]
  },
  {
   "cell_type": "code",
   "execution_count": 15,
   "metadata": {
    "colab": {
     "base_uri": "https://localhost:8080/"
    },
    "id": "WLavFDb7RlD8",
    "outputId": "3e2055e9-1cbb-4b27-8428-97c40ab237fd"
   },
   "outputs": [
    {
     "name": "stdout",
     "output_type": "stream",
     "text": [
      "torch.Size([16, 30])\n",
      "torch.Size([16])\n"
     ]
    }
   ],
   "source": [
    "train_dataloader = DataLoader(train_dataset, batch_size=16)\n",
    "for batch_x, batch_y in train_dataloader:\n",
    "    print(batch_x.shape)\n",
    "    print(batch_y.shape)\n",
    "    break"
   ]
  },
  {
   "cell_type": "code",
   "execution_count": 16,
   "metadata": {
    "id": "eBTVkLVSTQ27"
   },
   "outputs": [],
   "source": [
    "from torch import nn"
   ]
  },
  {
   "cell_type": "code",
   "execution_count": 17,
   "metadata": {
    "id": "H97es22LRvGC"
   },
   "outputs": [],
   "source": [
    "class Net(nn.Module):\n",
    "    def __init__(self):\n",
    "\n",
    "        super().__init__()\n",
    "\n",
    "        # self.net = nn.Sequential([layer1, layer2])\n",
    "\n",
    "        self.layer1 = nn.Linear(30, 10)\n",
    "        self.layer2 = nn.Linear(10, 1)\n",
    "        self.activation = nn.ReLU()\n",
    "\n",
    "    def forward(self, x):\n",
    "        # g(Wx+b)\n",
    "        h1 = self.activation(self.layer1(x))\n",
    "        h2 = self.layer2(h1)\n",
    "        return h2"
   ]
  },
  {
   "cell_type": "code",
   "execution_count": 18,
   "metadata": {
    "id": "YYQ89RI8Vlgw"
   },
   "outputs": [],
   "source": [
    "model = Net()\n",
    "loss_fn = BCEWithLogitsLoss()\n",
    "# optimizer = SGD(model.parameters(), lr=0.1)\n",
    "optimizer = optim.SGD(params=model.parameters(), lr=0.01)"
   ]
  },
  {
   "cell_type": "code",
   "execution_count": 19,
   "metadata": {
    "id": "ZxGqcn0OWMpV"
   },
   "outputs": [],
   "source": [
    "def train_loop(dataloader, model, loss_fn, optimizer, device):\n",
    "    model.train()\n",
    "    for X, y in dataloader:\n",
    "        X, y = X.to(device), y.to(device)\n",
    "        preds = model(X)\n",
    "        loss = loss_fn(preds, y.unsqueeze(1))\n",
    "\n",
    "        # backpropagation - racunanje gradijenta\n",
    "        loss.backward()\n",
    "        # x_new = x - lr * grad\n",
    "        optimizer.step()\n",
    "        # necemo da sabiramo sve gradijente\n",
    "        optimizer.zero_grad()"
   ]
  },
  {
   "cell_type": "code",
   "execution_count": 20,
   "metadata": {
    "id": "V35ZA-JKWocb"
   },
   "outputs": [],
   "source": [
    "def test_loop(dataloader, model, loss_fn, device):\n",
    "    model.eval()\n",
    "    with torch.no_grad():\n",
    "        total_loss = 0\n",
    "        num_same = 0\n",
    "        for X, y in dataloader:\n",
    "            X, y = X.to(device), y.to(device)\n",
    "            outputs = model(X)\n",
    "            loss = loss_fn(outputs, y.unsqueeze(1))\n",
    "            total_loss += loss.item()\n",
    "            # accuracy\n",
    "            # preds = outputs > 0 # dve klase\n",
    "            _, indices = torch.max(outputs, 1) # vise klasa - maks po dimenziji 1\n",
    "                                               # jer je outputs.shape = (batch_size, num_classes)\n",
    "            num_same += sum(indices == y).item()\n",
    "        print(total_loss)\n",
    "        print(num_same / len(dataloader.dataset))"
   ]
  },
  {
   "cell_type": "code",
   "execution_count": 22,
   "metadata": {},
   "outputs": [
    {
     "name": "stdout",
     "output_type": "stream",
     "text": [
      "4.2924840450286865\n",
      "0.40350877192982454\n",
      "3.899208754301071\n",
      "0.40350877192982454\n",
      "3.516589045524597\n",
      "0.40350877192982454\n",
      "3.1519010066986084\n",
      "0.40350877192982454\n",
      "2.8246245980262756\n",
      "0.40350877192982454\n",
      "2.5408855229616165\n",
      "0.40350877192982454\n",
      "2.29860121011734\n",
      "0.40350877192982454\n",
      "2.093602254986763\n",
      "0.40350877192982454\n",
      "1.9197643101215363\n",
      "0.40350877192982454\n",
      "1.7728595435619354\n",
      "0.40350877192982454\n"
     ]
    }
   ],
   "source": [
    "device = 'cuda' if torch.cuda.is_available() else 'cpu'\n",
    "model.to(device)\n",
    "num_epochs = 10\n",
    "for epoch in range(num_epochs):\n",
    "    train_loop(train_dataloader, model, loss_fn, optimizer, device)\n",
    "    test_loop(test_dataloader, model, loss_fn, device)"
   ]
  },
  {
   "cell_type": "code",
   "execution_count": null,
   "metadata": {},
   "outputs": [],
   "source": []
  }
 ],
 "metadata": {
  "accelerator": "GPU",
  "colab": {
   "gpuType": "T4",
   "provenance": []
  },
  "kernelspec": {
   "display_name": "Python 3 (ipykernel)",
   "language": "python",
   "name": "python3"
  },
  "language_info": {
   "codemirror_mode": {
    "name": "ipython",
    "version": 3
   },
   "file_extension": ".py",
   "mimetype": "text/x-python",
   "name": "python",
   "nbconvert_exporter": "python",
   "pygments_lexer": "ipython3",
   "version": "3.10.0"
  }
 },
 "nbformat": 4,
 "nbformat_minor": 4
}
