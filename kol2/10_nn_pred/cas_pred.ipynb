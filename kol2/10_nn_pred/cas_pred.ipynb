{
 "cells": [
  {
   "cell_type": "code",
   "execution_count": 1,
   "metadata": {
    "id": "tuLbDLjQF8wv"
   },
   "outputs": [],
   "source": [
    "import torch\n",
    "from torch import nn\n",
    "from torch import optim\n",
    "from torch.nn import BCEWithLogitsLoss\n",
    "from torch.utils.data import Dataset, DataLoader"
   ]
  },
  {
   "cell_type": "code",
   "execution_count": 2,
   "metadata": {
    "id": "BzJ2M9ktLUkd"
   },
   "outputs": [],
   "source": [
    "from sklearn.datasets import load_breast_cancer\n",
    "from sklearn.model_selection import train_test_split"
   ]
  },
  {
   "cell_type": "code",
   "execution_count": 3,
   "metadata": {
    "id": "UNomCQIJQA4I"
   },
   "outputs": [],
   "source": [
    "X, y = load_breast_cancer(return_X_y=True)"
   ]
  },
  {
   "cell_type": "code",
   "execution_count": 4,
   "metadata": {
    "id": "fgeQRDbdQT98"
   },
   "outputs": [],
   "source": [
    "X_train, X_test, y_train, y_test = train_test_split(X, y, train_size=0.8)"
   ]
  },
  {
   "cell_type": "code",
   "execution_count": 5,
   "metadata": {
    "colab": {
     "base_uri": "https://localhost:8080/"
    },
    "id": "JnUGIQIKQZBD",
    "outputId": "be214e14-fa13-45b2-f842-abcbd36b09c6"
   },
   "outputs": [
    {
     "data": {
      "text/plain": [
       "(455, 30)"
      ]
     },
     "execution_count": 5,
     "metadata": {},
     "output_type": "execute_result"
    }
   ],
   "source": [
    "X_train.shape"
   ]
  },
  {
   "cell_type": "code",
   "execution_count": 6,
   "metadata": {
    "colab": {
     "base_uri": "https://localhost:8080/"
    },
    "id": "227VSnW6QaU8",
    "outputId": "f3518b01-a455-44ff-8707-f80e0c52e73f"
   },
   "outputs": [
    {
     "data": {
      "text/plain": [
       "(114, 30)"
      ]
     },
     "execution_count": 6,
     "metadata": {},
     "output_type": "execute_result"
    }
   ],
   "source": [
    "X_test.shape"
   ]
  },
  {
   "cell_type": "code",
   "execution_count": 7,
   "metadata": {
    "colab": {
     "base_uri": "https://localhost:8080/"
    },
    "id": "MvG1ST_pQa7n",
    "outputId": "e8aa1879-80f5-42b1-9215-0dcd411ff57f"
   },
   "outputs": [
    {
     "data": {
      "text/plain": [
       "array([1.270e+01, 1.217e+01, 8.088e+01, 4.950e+02, 8.785e-02, 5.794e-02,\n",
       "       2.360e-02, 2.402e-02, 1.583e-01, 6.275e-02, 2.253e-01, 6.457e-01,\n",
       "       1.527e+00, 1.737e+01, 6.131e-03, 1.263e-02, 9.075e-03, 8.231e-03,\n",
       "       1.713e-02, 4.414e-03, 1.365e+01, 1.692e+01, 8.812e+01, 5.669e+02,\n",
       "       1.314e-01, 1.607e-01, 9.385e-02, 8.224e-02, 2.775e-01, 9.464e-02])"
      ]
     },
     "execution_count": 7,
     "metadata": {},
     "output_type": "execute_result"
    }
   ],
   "source": [
    "X_train[0]"
   ]
  },
  {
   "cell_type": "code",
   "execution_count": 8,
   "metadata": {
    "id": "uqXtPo6yQdra"
   },
   "outputs": [],
   "source": [
    "from sklearn.preprocessing import StandardScaler"
   ]
  },
  {
   "cell_type": "code",
   "execution_count": 9,
   "metadata": {
    "id": "kZYb_KHyQkX_"
   },
   "outputs": [],
   "source": [
    "scaler = StandardScaler()\n",
    "X_train = scaler.fit_transform(X_train)\n",
    "X_test = scaler.transform(X_test)"
   ]
  },
  {
   "cell_type": "code",
   "execution_count": 10,
   "metadata": {
    "colab": {
     "base_uri": "https://localhost:8080/"
    },
    "id": "knVFOeSMQwaL",
    "outputId": "e792413c-ed43-41a2-b34c-dc5fd0d8aba7"
   },
   "outputs": [
    {
     "data": {
      "text/plain": [
       "array([-0.39613435, -1.6852843 , -0.4502001 , -0.44555548, -0.64680697,\n",
       "       -0.90331658, -0.84225878, -0.65686789, -0.86024337, -0.02873597,\n",
       "       -0.63815091, -1.04754445, -0.6540412 , -0.4926319 , -0.32189669,\n",
       "       -0.7439685 , -0.74698374, -0.59137547, -0.41836691,  0.21064109,\n",
       "       -0.54102011, -1.44001225, -0.57089973, -0.55044548, -0.08841847,\n",
       "       -0.62466071, -0.87599259, -0.51326743, -0.23342987,  0.52589063])"
      ]
     },
     "execution_count": 10,
     "metadata": {},
     "output_type": "execute_result"
    }
   ],
   "source": [
    "X_train[0]"
   ]
  },
  {
   "cell_type": "code",
   "execution_count": 11,
   "metadata": {
    "id": "zR6pchjgQzFI"
   },
   "outputs": [],
   "source": [
    "class OurDataset(Dataset):\n",
    "    def __init__(self, X, y):\n",
    "        self.X = torch.tensor(X, dtype=torch.float32)\n",
    "        self.y = torch.tensor(y, dtype=torch.float32)\n",
    "\n",
    "    def __len__(self):\n",
    "        return len(self.X)\n",
    "\n",
    "    def __getitem__(self, i):\n",
    "        return self.X[i], self.y[i]"
   ]
  },
  {
   "cell_type": "code",
   "execution_count": 12,
   "metadata": {
    "colab": {
     "base_uri": "https://localhost:8080/"
    },
    "id": "BV1IVWoEROMA",
    "outputId": "69b7d45b-fd61-4f76-d7f8-7a9f13e0cd49"
   },
   "outputs": [
    {
     "data": {
      "text/plain": [
       "455"
      ]
     },
     "execution_count": 12,
     "metadata": {},
     "output_type": "execute_result"
    }
   ],
   "source": [
    "train_dataset = OurDataset(X_train, y_train)\n",
    "len(train_dataset)"
   ]
  },
  {
   "cell_type": "code",
   "execution_count": 13,
   "metadata": {
    "colab": {
     "base_uri": "https://localhost:8080/"
    },
    "id": "lKZvvhi1Rcxd",
    "outputId": "04c099c5-392d-44dd-d7de-f4d78cb4ba43"
   },
   "outputs": [
    {
     "data": {
      "text/plain": [
       "(tensor([-0.3961, -1.6853, -0.4502, -0.4456, -0.6468, -0.9033, -0.8423, -0.6569,\n",
       "         -0.8602, -0.0287, -0.6382, -1.0475, -0.6540, -0.4926, -0.3219, -0.7440,\n",
       "         -0.7470, -0.5914, -0.4184,  0.2106, -0.5410, -1.4400, -0.5709, -0.5504,\n",
       "         -0.0884, -0.6247, -0.8760, -0.5133, -0.2334,  0.5259]),\n",
       " tensor(1.))"
      ]
     },
     "execution_count": 13,
     "metadata": {},
     "output_type": "execute_result"
    }
   ],
   "source": [
    "train_dataset[0]"
   ]
  },
  {
   "cell_type": "code",
   "execution_count": 14,
   "metadata": {
    "id": "G7vMJ-JSRep-"
   },
   "outputs": [],
   "source": [
    "test_dataset = OurDataset(X_test, y_test)\n",
    "test_dataloader = DataLoader(test_dataset, batch_size=16)"
   ]
  },
  {
   "cell_type": "code",
   "execution_count": 15,
   "metadata": {
    "colab": {
     "base_uri": "https://localhost:8080/"
    },
    "id": "WLavFDb7RlD8",
    "outputId": "3e2055e9-1cbb-4b27-8428-97c40ab237fd"
   },
   "outputs": [
    {
     "name": "stdout",
     "output_type": "stream",
     "text": [
      "torch.Size([16, 30])\n",
      "torch.Size([16])\n"
     ]
    }
   ],
   "source": [
    "train_dataloader = DataLoader(train_dataset, batch_size=16)\n",
    "for batch_x, batch_y in train_dataloader:\n",
    "    print(batch_x.shape)\n",
    "    print(batch_y.shape)\n",
    "    break"
   ]
  },
  {
   "cell_type": "code",
   "execution_count": 16,
   "metadata": {
    "id": "eBTVkLVSTQ27"
   },
   "outputs": [],
   "source": [
    "from torch import nn"
   ]
  },
  {
   "cell_type": "code",
   "execution_count": 17,
   "metadata": {
    "id": "H97es22LRvGC"
   },
   "outputs": [],
   "source": [
    "class Net(nn.Module):\n",
    "    def __init__(self):\n",
    "\n",
    "        super().__init__()\n",
    "\n",
    "        # self.net = nn.Sequential([layer1, layer2])\n",
    "\n",
    "        self.layer1 = nn.Linear(30, 10)\n",
    "        self.layer2 = nn.Linear(10, 1)\n",
    "        self.activation = nn.ReLU()\n",
    "\n",
    "    def forward(self, x):\n",
    "        # g(Wx+b)\n",
    "        h1 = self.activation(self.layer1(x))\n",
    "        h2 = self.layer2(h1)\n",
    "        return h2.squeeze()"
   ]
  },
  {
   "cell_type": "code",
   "execution_count": 18,
   "metadata": {
    "id": "YYQ89RI8Vlgw"
   },
   "outputs": [],
   "source": [
    "model = Net()\n",
    "loss_fn = BCEWithLogitsLoss()\n",
    "optimizer = optim.SGD(params=model.parameters(), lr=0.01)"
   ]
  },
  {
   "cell_type": "code",
   "execution_count": 19,
   "metadata": {
    "id": "ZxGqcn0OWMpV"
   },
   "outputs": [],
   "source": [
    "def train_loop(dataloader, model, loss_fn, optimizer, device):\n",
    "    model.train()\n",
    "    for X, y in dataloader:\n",
    "        X, y = X.to(device), y.to(device)\n",
    "        preds = model(X)\n",
    "        loss = loss_fn(preds, y)\n",
    "\n",
    "        # backpropagation - racunanje gradijenta\n",
    "        loss.backward()\n",
    "        # x_new = x - lr * grad\n",
    "        optimizer.step()\n",
    "        # necemo da sabiramo sve gradijente\n",
    "        optimizer.zero_grad()"
   ]
  },
  {
   "cell_type": "code",
   "execution_count": 20,
   "metadata": {
    "id": "V35ZA-JKWocb"
   },
   "outputs": [],
   "source": [
    "def test_loop(dataloader, model, loss_fn, device):\n",
    "    model.eval()\n",
    "    with torch.no_grad():\n",
    "        total_loss = 0\n",
    "        num_same = 0\n",
    "        for X, y in dataloader:\n",
    "            X, y = X.to(device), y.to(device)\n",
    "            outputs = model(X)\n",
    "            loss = loss_fn(outputs, y)\n",
    "            total_loss += loss.item()\n",
    "\n",
    "            if len(outputs.shape) == 1: # accuracy za dve klase\n",
    "                preds = outputs > 0\n",
    "                num_same += sum(preds == y).item()\n",
    "            else:\n",
    "                _, indices = torch.max(outputs, 1) # vise klasa - maks po dimenziji 1 jer je outputs.shape = (batch_size, num_classes)\n",
    "                num_same += sum(indices == y).item()\n",
    "\n",
    "        print(f'Average loss: {total_loss / len(dataloader.dataset)}')\n",
    "        print(f'Accuracy: {num_same / len(dataloader.dataset)}')"
   ]
  },
  {
   "cell_type": "code",
   "execution_count": 21,
   "metadata": {},
   "outputs": [
    {
     "name": "stdout",
     "output_type": "stream",
     "text": [
      "Average loss: 0.049660921619649516\n",
      "Accuracy: 0.3157894736842105\n",
      "Average loss: 0.04471501498891596\n",
      "Accuracy: 0.5614035087719298\n",
      "Average loss: 0.04067986994458918\n",
      "Accuracy: 0.7982456140350878\n",
      "Average loss: 0.03702828601786965\n",
      "Accuracy: 0.8771929824561403\n",
      "Average loss: 0.0335262982468856\n",
      "Accuracy: 0.9210526315789473\n",
      "Average loss: 0.030169856130031116\n",
      "Accuracy: 0.9122807017543859\n",
      "Average loss: 0.027043190441633527\n",
      "Accuracy: 0.9298245614035088\n",
      "Average loss: 0.0242208671151546\n",
      "Accuracy: 0.9385964912280702\n",
      "Average loss: 0.021776639578635234\n",
      "Accuracy: 0.9385964912280702\n",
      "Average loss: 0.019719417942197698\n",
      "Accuracy: 0.9385964912280702\n"
     ]
    }
   ],
   "source": [
    "device = 'cuda' if torch.cuda.is_available() else 'cpu'\n",
    "model.to(device)\n",
    "num_epochs = 10\n",
    "for epoch in range(num_epochs):\n",
    "    train_loop(train_dataloader, model, loss_fn, optimizer, device)\n",
    "    test_loop(test_dataloader, model, loss_fn, device)"
   ]
  }
 ],
 "metadata": {
  "accelerator": "GPU",
  "colab": {
   "gpuType": "T4",
   "provenance": []
  },
  "kernelspec": {
   "display_name": "Python 3 (ipykernel)",
   "language": "python",
   "name": "python3"
  },
  "language_info": {
   "codemirror_mode": {
    "name": "ipython",
    "version": 3
   },
   "file_extension": ".py",
   "mimetype": "text/x-python",
   "name": "python",
   "nbconvert_exporter": "python",
   "pygments_lexer": "ipython3",
   "version": "3.10.0"
  }
 },
 "nbformat": 4,
 "nbformat_minor": 4
}
