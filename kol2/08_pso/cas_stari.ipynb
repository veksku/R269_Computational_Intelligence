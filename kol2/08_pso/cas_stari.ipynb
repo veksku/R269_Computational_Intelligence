{
 "cells": [
  {
   "cell_type": "code",
   "execution_count": 1,
   "metadata": {},
   "outputs": [],
   "source": [
    "# PSO\n",
    "# swarm = [Particle...]\n",
    "# while not stop_condition():\n",
    "#     for particle in swarm:\n",
    "#         particle.calc_velocity - c_i*inercija + r_l*c_l*licno + r_j*c_j*jato\n",
    "#         particle.calc_position - trenutna pozicija + brzina\n",
    "# resenje = jato"
   ]
  },
  {
   "cell_type": "code",
   "execution_count": 2,
   "metadata": {},
   "outputs": [],
   "source": [
    "import numpy as np\n",
    "import random"
   ]
  },
  {
   "cell_type": "code",
   "execution_count": 3,
   "metadata": {},
   "outputs": [],
   "source": [
    "def rastrigin(x):\n",
    "    A = 10\n",
    "    n = len(x)\n",
    "    return A*n + sum(x[i]**2 - A*np.cos(2*np.pi*x[i]) for i in range(n))"
   ]
  },
  {
   "cell_type": "code",
   "execution_count": 4,
   "metadata": {},
   "outputs": [],
   "source": [
    "class Particle:\n",
    "    global_best_position = None\n",
    "    global_best_value = None\n",
    "    \n",
    "    def __init__(self, bounds, obj_func, c_i, c_p, c_g):\n",
    "        self.lower_bounds = np.array([bound[0] for bound in bounds])\n",
    "        self.upper_bounds = np.array([bound[1] for bound in bounds])\n",
    "        \n",
    "        self.position = np.random.uniform(self.lower_bounds, self.upper_bounds, len(bounds))\n",
    "        self.velocity = np.random.uniform(self.lower_bounds - self.upper_bounds,\n",
    "                                          self.upper_bounds - self.lower_bounds,\n",
    "                                          len(bounds))\n",
    "\n",
    "        self.personal_best_position = self.position.copy()\n",
    "        \n",
    "        self.obj_func = obj_func\n",
    "        self.c_i = c_i\n",
    "        self.c_p = c_p\n",
    "        self.c_g = c_g\n",
    "        \n",
    "        self.value = obj_func(self.position)\n",
    "        self.personal_best_value = obj_func(self.personal_best_position)\n",
    "\n",
    "        if Particle.global_best_value is None or Particle.global_best_value > self.value:\n",
    "            Particle.global_best_value = self.value\n",
    "            Particle.global_best_position = self.position.copy()\n",
    "        \n",
    "    def update_position(self):\n",
    "        self.position = np.clip(self.position + self.velocity,\n",
    "                                self.lower_bounds,\n",
    "                                self.upper_bounds)\n",
    "        self.value = self.obj_func(self.position)\n",
    "        if self.value < self.personal_best_value:\n",
    "            self.personal_best_value = self.value\n",
    "            self.personal_best_position = self.position.copy()\n",
    "            if self.value < Particle.global_best_value:\n",
    "                Particle.global_best_value = self.value\n",
    "                Particle.global_best_position = self.position.copy()\n",
    "    \n",
    "    def update_velocity(self):\n",
    "        r_p = np.random.random(self.velocity.shape)\n",
    "        r_s = np.random.random(self.velocity.shape)\n",
    "# mozda bi imalo smisla da normiramo vektore pre ovoga\n",
    "# mozda i value ukljuciti pazljivo\n",
    "        cognitive_velocity = r_p * self.c_p * (self.personal_best_position - self.position)\n",
    "        social_velocity = r_s * self.c_g * (Particle.global_best_position - self.position)\n",
    "        inertia = self.c_i * self.velocity\n",
    "        self.velocity = inertia + cognitive_velocity + social_velocity"
   ]
  },
  {
   "cell_type": "markdown",
   "metadata": {},
   "source": [
    "update_velocity:\n",
    "$$vel_{cog} = r_p * c_p * (pbp - pos)$$\n",
    "$$vel_{soc} = r_s * c_g * (gbp - pos)$$\n",
    "$$inertia = c_i * velocity$$\n",
    "$$velocity = inertia + vel_{cog} + vel_{soc}$$"
   ]
  },
  {
   "cell_type": "code",
   "execution_count": 5,
   "metadata": {},
   "outputs": [],
   "source": [
    "def pso(swarm_size, num_dimensions, c_i, c_p, c_g, num_iters):\n",
    "    bounds = [(-5.12, 5.12) for _ in range(num_dimensions)]\n",
    "    \n",
    "    swarm = [Particle(bounds=bounds,\n",
    "                      obj_func=rosenbrock,\n",
    "                      c_i=c_i,\n",
    "                      c_p=c_p,\n",
    "                      c_g=c_g) for _ in range(swarm_size)]\n",
    "    for _ in range(num_iters):\n",
    "        for particle in swarm:\n",
    "            particle.update_velocity()\n",
    "            particle.update_position()\n",
    "\n",
    "    print(Particle.global_best_position)\n",
    "    print(Particle.global_best_value)\n",
    "    \n",
    "    Particle.global_best_position = None\n",
    "    Particle.global_best_value = None"
   ]
  },
  {
   "cell_type": "code",
   "execution_count": 6,
   "metadata": {},
   "outputs": [],
   "source": [
    "def rosenbrock(x):\n",
    "    a = 1\n",
    "    b = 100\n",
    "    return (a - x[0])**2 + b*(x[1] - x[0]**2)**2"
   ]
  },
  {
   "cell_type": "code",
   "execution_count": 7,
   "metadata": {},
   "outputs": [
    {
     "name": "stdout",
     "output_type": "stream",
     "text": [
      "[1.00596696 1.0117931 ]\n",
      "3.871688088035338e-05\n"
     ]
    }
   ],
   "source": [
    "pso(swarm_size=50, num_dimensions=2, c_i=0.7, c_p=1.0, c_g=1.0, num_iters=100)"
   ]
  }
 ],
 "metadata": {
  "kernelspec": {
   "display_name": "Python 3 (ipykernel)",
   "language": "python",
   "name": "python3"
  },
  "language_info": {
   "codemirror_mode": {
    "name": "ipython",
    "version": 3
   },
   "file_extension": ".py",
   "mimetype": "text/x-python",
   "name": "python",
   "nbconvert_exporter": "python",
   "pygments_lexer": "ipython3",
   "version": "3.10.0"
  }
 },
 "nbformat": 4,
 "nbformat_minor": 4
}
