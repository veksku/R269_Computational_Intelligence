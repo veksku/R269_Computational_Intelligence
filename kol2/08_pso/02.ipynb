{
 "cells": [
  {
   "cell_type": "code",
   "execution_count": 1,
   "metadata": {},
   "outputs": [],
   "source": [
    "import numpy as np\n",
    "import random\n",
    "import matplotlib.pyplot as plt"
   ]
  },
  {
   "cell_type": "code",
   "execution_count": 2,
   "metadata": {},
   "outputs": [],
   "source": [
    "def ackley(x):\n",
    "    d = len(x)\n",
    "    a = 20\n",
    "    b = 0.2\n",
    "    c = 2 * np.pi\n",
    "    first_sum = np.sum(np.square(x))\n",
    "    second_sum = np.sum(np.cos(np.multiply(c, x)))\n",
    "    return -a*np.exp(-b*np.sqrt(first_sum / d)) - np.exp(second_sum / d) + a + np.exp(1)"
   ]
  },
  {
   "cell_type": "code",
   "execution_count": 3,
   "metadata": {},
   "outputs": [],
   "source": [
    "n = 5\n",
    "bounds = [(-32, 32) for _ in range(n)]"
   ]
  },
  {
   "cell_type": "markdown",
   "metadata": {},
   "source": [
    "Koristeći optimizaciju rojem čestica (PSO) minimizovati Aklijevu funkciju na datom opsegu.\n",
    "\n",
    "Napraviti klasu $Particle$ koja predstavlja jednu česticu i ima metode $updatePosition$ i $updateVelocity$ koji ažuriraju poziciju i brzinu čestice.\n",
    "\n",
    "Za parametre $w$, $c1$ i $c2$ uzeti redom vrednosti $0.75$, $1$ i $2$."
   ]
  },
  {
   "cell_type": "code",
   "execution_count": 4,
   "metadata": {},
   "outputs": [],
   "source": [
    "class Particle:\n",
    "    \n",
    "    globalBestPosition = None\n",
    "    globalBestValue = None\n",
    "    \n",
    "    def __init__(self, objective, bounds, w, c1, c2):\n",
    "#         POCETAK STUDENTSKOG KODA\n",
    "        self.position = np.array([random.uniform(bound[0], bound[1]) for bound in bounds])\n",
    "        self.velocity = np.array([random.uniform(bound[0] - bound[1], bound[1] - bound[0]) for bound in bounds])\n",
    "#         KRAJ STUDENTSKOG KODA\n",
    "        self.bestPosition = list(self.position)\n",
    "        self.currentValue = objective(self.position)\n",
    "        self.bestValue = objective(self.bestPosition)\n",
    "        \n",
    "        if Particle.globalBestValue is None or self.currentValue < Particle.globalBestValue:\n",
    "            Particle.globalBestPosition = self.position.copy()\n",
    "            Particle.globalBestValue = self.currentValue\n",
    "            \n",
    "        self.objective = objective\n",
    "        self.bounds = bounds\n",
    "        self.w = w\n",
    "        self.c1 = c1\n",
    "        self.c2 = c2\n",
    "        \n",
    "    def updatePosition(self):\n",
    "#         POCETAK STUDENTSKOG KODA\n",
    "        lower_bounds = np.array([bound[0] for bound in bounds])\n",
    "        upper_bounds = np.array([bound[1] for bound in bounds])\n",
    "        self.position = np.clip(self.position + self.velocity, lower_bounds, upper_bounds)\n",
    "        self.currentValue = self.objective(self.position)\n",
    "        if self.bestValue > self.currentValue:\n",
    "            self.bestValue = self.currentValue\n",
    "            self.bestPosition = self.position.copy()\n",
    "            if Particle.globalBestValue > self.currentValue:\n",
    "                Particle.globalBestValue = self.currentValue\n",
    "                Particle.globalBestPosition = self.position.copy()\n",
    "#         KRAJ STUDENTSKOG KODA\n",
    "    \n",
    "    def updateVelocity(self):\n",
    "#         POCETAK STUDENTSKOG KODA\n",
    "        r_l = np.random.random(self.velocity.shape)\n",
    "        r_g = np.random.random(self.velocity.shape)\n",
    "        self.velocity = (self.w * self.velocity\n",
    "                        + r_l * self.c1 * (self.bestPosition - self.position)\n",
    "                        + r_g * self.c2 * (Particle.globalBestPosition - self.position))\n",
    "        return None\n",
    "#         KRAJ STUDENTSKOG KODA"
   ]
  },
  {
   "cell_type": "markdown",
   "metadata": {},
   "source": [
    "Napisati funkciju $pso$ koja pravi roj od $numParticles$ čestica i vrši optimizaciju.\n",
    "\n",
    "Uslov zaustavljanja je broj iteracija $iters$.\n",
    "\n",
    "Nacrtati grafik promene vrednosti najboljeg rešenja kroz iteracije.\n",
    "\n",
    "Iz funkcije vratiti poziciju i vrednost najboljeg rešenja."
   ]
  },
  {
   "cell_type": "code",
   "execution_count": 5,
   "metadata": {},
   "outputs": [],
   "source": [
    "def pso(numParticles, iters):\n",
    "#     POCETAK STUDENTSKOG KODA\n",
    "    swarm = [Particle(ackley, bounds, 0.75, 1, 2) for _ in range(numParticles)]\n",
    "    bestValues = []\n",
    "    for i in range(iters):\n",
    "        for j, particle in enumerate(swarm):\n",
    "            particle.updateVelocity()\n",
    "            particle.updatePosition()\n",
    "        bestValues.append(Particle.globalBestValue)\n",
    "    print(f'Solution: {Particle.globalBestPosition}, value: {Particle.globalBestValue}')\n",
    "#     KRAJ STUDENTSKOG KODA"
   ]
  },
  {
   "cell_type": "markdown",
   "metadata": {},
   "source": [
    "Minimum ove funkcije je nula i dostiže se u nuli."
   ]
  },
  {
   "cell_type": "code",
   "execution_count": 6,
   "metadata": {},
   "outputs": [
    {
     "name": "stdout",
     "output_type": "stream",
     "text": [
      "Solution: [-1.21806922e-07 -5.60005312e-07 -1.34809260e-07  1.98541434e-07\n",
      " -1.31510363e-07], value: 1.136074839980239e-06\n"
     ]
    }
   ],
   "source": [
    "pso(25, 300)"
   ]
  }
 ],
 "metadata": {
  "kernelspec": {
   "display_name": "Python 3 (ipykernel)",
   "language": "python",
   "name": "python3"
  },
  "language_info": {
   "codemirror_mode": {
    "name": "ipython",
    "version": 3
   },
   "file_extension": ".py",
   "mimetype": "text/x-python",
   "name": "python",
   "nbconvert_exporter": "python",
   "pygments_lexer": "ipython3",
   "version": "3.10.0"
  }
 },
 "nbformat": 4,
 "nbformat_minor": 4
}
