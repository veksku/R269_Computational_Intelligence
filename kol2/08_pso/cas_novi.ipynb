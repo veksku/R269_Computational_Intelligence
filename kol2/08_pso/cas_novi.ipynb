{
 "cells": [
  {
   "cell_type": "code",
   "execution_count": 1,
   "metadata": {},
   "outputs": [],
   "source": [
    "# def pso():\n",
    "#     swarm = [Particle...]\n",
    "#     while not stop_condition():\n",
    "#         for p in swarm:\n",
    "#             # v = c_i*inertia + c_p*personal_best + c_s*swarm_best\n",
    "#             p.update_velocity()\n",
    "#             p.update_position()\n",
    "#     return najbolja pozicija za celo jato"
   ]
  },
  {
   "cell_type": "code",
   "execution_count": 2,
   "metadata": {},
   "outputs": [],
   "source": [
    "import numpy as np\n",
    "def rastrigin(x):\n",
    "    A = 10\n",
    "    n = len(x)\n",
    "    return A*n + sum(x[i]**2 - A*np.cos(2*np.pi*x[i]) for i in range(n))"
   ]
  },
  {
   "cell_type": "code",
   "execution_count": 3,
   "metadata": {},
   "outputs": [],
   "source": [
    "num_dimensions = 2\n",
    "bounds = np.array([(-5.12, 5.12) for _ in range(num_dimensions)])"
   ]
  },
  {
   "cell_type": "code",
   "execution_count": 4,
   "metadata": {},
   "outputs": [],
   "source": [
    "lower_bounds = bounds[:,0]"
   ]
  },
  {
   "cell_type": "code",
   "execution_count": 5,
   "metadata": {},
   "outputs": [],
   "source": [
    "class Particle:\n",
    "    swarm_best_position = None\n",
    "    swarm_best_value = None\n",
    "    \n",
    "    def __init__(self, bounds, f, c_i, c_p, c_s):\n",
    "        self.c_i = c_i\n",
    "        self.c_p = c_p\n",
    "        self.c_s = c_s\n",
    "        \n",
    "        self.lower_bounds = bounds[:,0]\n",
    "        self.upper_bounds = bounds[:,1]\n",
    "        self.position = np.random.uniform(self.lower_bounds, self.upper_bounds, len(bounds))\n",
    "        self.velocity = np.random.uniform(-1, 1, len(bounds))\n",
    "        \n",
    "        self.personal_best_position = self.position.copy()\n",
    "        self.value = f(self.position)\n",
    "        self.personal_best_value = self.value\n",
    "        self.f = f\n",
    "        if Particle.swarm_best_value is None or self.value < Particle.swarm_best_value:\n",
    "            Particle.swarm_best_value = self.value\n",
    "            Particle.swarm_best_position = self.position.copy()\n",
    "            \n",
    "    def update_position(self):\n",
    "        self.position = np.clip(self.position + self.velocity, \n",
    "                               self.lower_bounds,\n",
    "                               self.upper_bounds)\n",
    "        self.value = self.f(self.position)\n",
    "        if self.value < self.personal_best_value:\n",
    "            self.personal_best_value = self.value\n",
    "            self.personal_best_position = self.position.copy()\n",
    "            if self.value < Particle.swarm_best_value:\n",
    "                Particle.swarm_best_value = self.value\n",
    "                Particle.swarm_best_position = self.position.copy()\n",
    "    \n",
    "    def update_velocity(self): # za domaci arg iter - c_p se smanjuje, a c_s se povecava\n",
    "        cognitive_velocity = self.personal_best_position - self.position\n",
    "        social_velocity = Particle.swarm_best_position - self.position\n",
    "        r_p = np.random.random(len(cognitive_velocity))\n",
    "        r_s = np.random.random(len(social_velocity))\n",
    "        self.velocity = (self.c_i * self.velocity\n",
    "                        + self.c_p * r_p * cognitive_velocity\n",
    "                        + self.c_s * r_s * social_velocity)"
   ]
  },
  {
   "cell_type": "markdown",
   "metadata": {},
   "source": [
    "update_velocity:\n",
    "$$vel_{cog} = (pbp - pos)$$\n",
    "$$vel_{soc} = (gbp - pos)$$\n",
    "$$velocity = c_i * velocity + r_p * c_p * vel_{cog} +  r_s * c_s * vel_{soc}$$"
   ]
  },
  {
   "cell_type": "code",
   "execution_count": 6,
   "metadata": {},
   "outputs": [],
   "source": [
    "def pso(swarm_size, num_iters):\n",
    "    swarm = [Particle(bounds, f=rastrigin, c_i=0.5, c_p=1, c_s=1) for _ in range(swarm_size)]\n",
    "    for i in range(num_iters):\n",
    "        for p in swarm:\n",
    "            p.update_velocity()\n",
    "            p.update_position()\n",
    "    return Particle.swarm_best_position, Particle.swarm_best_value"
   ]
  },
  {
   "cell_type": "code",
   "execution_count": 7,
   "metadata": {},
   "outputs": [
    {
     "data": {
      "text/plain": [
       "(array([-1.24192230e-09,  3.42254228e-09]), 0.0)"
      ]
     },
     "execution_count": 7,
     "metadata": {},
     "output_type": "execute_result"
    }
   ],
   "source": [
    "pso(swarm_size=20, num_iters=100)"
   ]
  },
  {
   "cell_type": "code",
   "execution_count": null,
   "metadata": {},
   "outputs": [],
   "source": []
  }
 ],
 "metadata": {
  "kernelspec": {
   "display_name": "Python 3 (ipykernel)",
   "language": "python",
   "name": "python3"
  },
  "language_info": {
   "codemirror_mode": {
    "name": "ipython",
    "version": 3
   },
   "file_extension": ".py",
   "mimetype": "text/x-python",
   "name": "python",
   "nbconvert_exporter": "python",
   "pygments_lexer": "ipython3",
   "version": "3.10.0"
  }
 },
 "nbformat": 4,
 "nbformat_minor": 4
}
