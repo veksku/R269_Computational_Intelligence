{
 "cells": [
  {
   "cell_type": "markdown",
   "id": "2e71c129-7f8b-4209-b0a7-7ffee5099f5b",
   "metadata": {},
   "source": [
    "gradient_descent:\n",
    "$$x_{new} = x - \\alpha * \\nabla f(x)$$"
   ]
  },
  {
   "cell_type": "markdown",
   "id": "8ffffb6c-7a9c-4961-b568-123a9ba7f7c2",
   "metadata": {},
   "source": [
    "momentum:\n",
    "$$inertia = \\beta * inertia - \\alpha * \\nabla f(x)$$\n",
    "$$x_{new} = x + inertia$$"
   ]
  },
  {
   "cell_type": "markdown",
   "id": "9d81735e-d137-41fa-b40f-ef5e4728146b",
   "metadata": {},
   "source": [
    "nesterov:\n",
    "$$inertia = \\beta * inertia - \\alpha * \\nabla f(x + \\beta * inertia)$$\n",
    "$$x_{new} = x + inertia$$"
   ]
  },
  {
   "cell_type": "markdown",
   "id": "ea9c0ae6-1be8-4a04-bb68-635fb0871685",
   "metadata": {},
   "source": [
    "adam:\n",
    "$$m = \\beta_1 * m + (1 - \\beta_1) * \\nabla f(x)$$\n",
    "$$v = \\beta_2 * v + (1 - \\beta_2) * \\nabla f(x)^2$$\n",
    "\n",
    "$$m_{hat} = \\frac{m}{1 - \\beta_1^i}$$\n",
    "$$v_{hat} = \\frac{v}{1 - \\beta_2^i}$$\n",
    "\n",
    "\n",
    "$$x_{new} = x - \\alpha * \\frac{m_{hat}}{\\sqrt{v_{hat}} + \\epsilon}$$"
   ]
  }
 ],
 "metadata": {
  "kernelspec": {
   "display_name": "Python 3 (ipykernel)",
   "language": "python",
   "name": "python3"
  },
  "language_info": {
   "codemirror_mode": {
    "name": "ipython",
    "version": 3
   },
   "file_extension": ".py",
   "mimetype": "text/x-python",
   "name": "python",
   "nbconvert_exporter": "python",
   "pygments_lexer": "ipython3",
   "version": "3.10.0"
  }
 },
 "nbformat": 4,
 "nbformat_minor": 5
}
