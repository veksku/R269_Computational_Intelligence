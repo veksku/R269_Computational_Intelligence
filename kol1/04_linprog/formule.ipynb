{
 "cells": [
  {
   "cell_type": "markdown",
   "id": "9dc3371f-4728-42b5-879e-43533e95cf1d",
   "metadata": {},
   "source": [
    "$$ \\sum_{j \\in J} x_{ij} = 1, \\forall i \\in I $$"
   ]
  },
  {
   "cell_type": "code",
   "execution_count": null,
   "id": "43bfe25f-139e-4275-abe9-dc3f54b876f1",
   "metadata": {},
   "outputs": [],
   "source": [
    "for i in range(num_users):\n",
    "    model.add_constraint(sum(x[i,j] for j in range num_facilities) == 1)"
   ]
  },
  {
   "cell_type": "markdown",
   "id": "c4710c3e-97db-4e50-9312-4d0aa16954ed",
   "metadata": {},
   "source": [
    "$$ x_{ij} \\leq y_j, \\forall i \\in I, \\forall j \\in J $$"
   ]
  },
  {
   "cell_type": "code",
   "execution_count": null,
   "id": "35823df8-e918-4a7f-bd24-2a413299853a",
   "metadata": {},
   "outputs": [],
   "source": [
    "for i in range(num_users):\n",
    "    for j in range(num_facilities):\n",
    "        model.add_constraint(x[i,j] <= y[j])"
   ]
  },
  {
   "cell_type": "markdown",
   "id": "a28e841f-142b-437e-b725-2693f9760e0c",
   "metadata": {},
   "source": [
    "$$min \\sum_{i \\in I} \\sum_{j \\in J} x_{ij} c_{ij}  + \\sum_{j \\in J} y_j f_j $$"
   ]
  },
  {
   "cell_type": "code",
   "execution_count": null,
   "id": "a0d44fd3-324c-443d-8a3b-8d0314cbc983",
   "metadata": {},
   "outputs": [],
   "source": [
    "first = sum(sum(x[i,j] * cost[i][j] for j in range(num_facilities)) for i in range(num_users))\n",
    "second = sum(y[j] * facility_cost[j] for j in range(num_facilities))\n",
    "model.minimize(first + second)"
   ]
  },
  {
   "cell_type": "markdown",
   "id": "0fedc0cd-ff32-4dbb-95ab-03f36b38b42d",
   "metadata": {},
   "source": [
    "$$ \\sum_{i \\in I} d_i x_{ij} \\leq s_j y_j, \\forall j \\in J $$"
   ]
  },
  {
   "cell_type": "code",
   "execution_count": null,
   "id": "17a142a1-b295-423d-8cea-af1e997405a0",
   "metadata": {},
   "outputs": [],
   "source": [
    "for j in range(num_facilities):\n",
    "    model.add_constraint(sum(d[i] * x[i,j] for i in range(num_users)) <= s[j] * y[j])"
   ]
  }
 ],
 "metadata": {
  "kernelspec": {
   "display_name": "Python 3 (ipykernel)",
   "language": "python",
   "name": "python3"
  },
  "language_info": {
   "codemirror_mode": {
    "name": "ipython",
    "version": 3
   },
   "file_extension": ".py",
   "mimetype": "text/x-python",
   "name": "python",
   "nbconvert_exporter": "python",
   "pygments_lexer": "ipython3",
   "version": "3.10.0"
  }
 },
 "nbformat": 4,
 "nbformat_minor": 5
}
