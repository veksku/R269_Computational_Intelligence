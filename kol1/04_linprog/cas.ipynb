{
 "cells": [
  {
   "cell_type": "code",
   "execution_count": 1,
   "id": "a4d05000-0e6d-4842-b163-4e4b75f49b73",
   "metadata": {},
   "outputs": [],
   "source": [
    "from docplex.mp.model import Model"
   ]
  },
  {
   "cell_type": "code",
   "execution_count": null,
   "id": "ae545e34-b27d-498a-afe2-81e0e594d3d4",
   "metadata": {},
   "outputs": [],
   "source": []
  },
  {
   "cell_type": "markdown",
   "id": "c3909aab-2573-40c2-9197-40f53da734cc",
   "metadata": {},
   "source": [
    "Neka je $x$ broj fiksnih a $y$ broj mobilnih telefona, nek vazi sledece:\n",
    "$$ x \\geq 100 $$\n",
    "$$ y \\geq 100 $$\n",
    "$$ 0.4*x + 0.6*y \\leq 3x_1 $$\n",
    "$$ 0.5*x + 0.4*y 2 $$\n",
    "Naci maksimalan profit ako je za svaki fiksni telefon profit 12 a za svaki mobilni 20."
   ]
  },
  {
   "cell_type": "code",
   "execution_count": 2,
   "id": "2c340e4d-9890-4f49-89d8-8449340e0cce",
   "metadata": {},
   "outputs": [],
   "source": [
    "model = Model(name = \"phones\")"
   ]
  },
  {
   "cell_type": "code",
   "execution_count": 3,
   "id": "49ab1bb5-60e9-4d11-b1c4-167d30ddb443",
   "metadata": {},
   "outputs": [],
   "source": [
    "x = model.continuous_var(lb=100, name='x')\n",
    "y = model.continuous_var(lb=100, name='y')"
   ]
  },
  {
   "cell_type": "code",
   "execution_count": 4,
   "id": "2896643b-c5ea-4969-bc17-8d9d88aa52f2",
   "metadata": {},
   "outputs": [
    {
     "data": {
      "text/plain": [
       "docplex.mp.LinearConstraint[](0.400x+0.600y,LE,400)"
      ]
     },
     "execution_count": 4,
     "metadata": {},
     "output_type": "execute_result"
    }
   ],
   "source": [
    "model.add_constraint(0.4*x + 0.6*y <= 400)"
   ]
  },
  {
   "cell_type": "code",
   "execution_count": 5,
   "id": "613299ea-34e6-42aa-a8b6-16546f0e54eb",
   "metadata": {},
   "outputs": [
    {
     "data": {
      "text/plain": [
       "docplex.mp.LinearConstraint[](0.500x+0.400y,LE,490)"
      ]
     },
     "execution_count": 5,
     "metadata": {},
     "output_type": "execute_result"
    }
   ],
   "source": [
    "model.add_constraint(0.5*x + 0.4*y <= 490)"
   ]
  },
  {
   "cell_type": "code",
   "execution_count": 6,
   "id": "18cd54ab-4bc9-4284-b99f-914bf7083336",
   "metadata": {},
   "outputs": [
    {
     "name": "stdout",
     "output_type": "stream",
     "text": [
      "Model: phones\n",
      " - number of variables: 2\n",
      "   - binary=0, integer=0, continuous=2\n",
      " - number of constraints: 2\n",
      "   - linear=2\n",
      " - parameters: defaults\n",
      " - objective: none\n",
      " - problem type is: LP\n"
     ]
    }
   ],
   "source": [
    "model.print_information()"
   ]
  },
  {
   "cell_type": "code",
   "execution_count": 7,
   "id": "9124a25d-fe2e-40a0-ba11-744f72168f86",
   "metadata": {},
   "outputs": [],
   "source": [
    "model.maximize(12*x + 20*y)"
   ]
  },
  {
   "cell_type": "code",
   "execution_count": 8,
   "id": "73f17269-c3b3-4bb7-bbcf-7ee95b8ea161",
   "metadata": {},
   "outputs": [
    {
     "data": {
      "text/plain": [
       "docplex.mp.solution.SolveSolution(obj=13200,values={x:100,y:600})"
      ]
     },
     "execution_count": 8,
     "metadata": {},
     "output_type": "execute_result"
    }
   ],
   "source": [
    "model.solve()"
   ]
  },
  {
   "cell_type": "code",
   "execution_count": 9,
   "id": "8792c4f5-0742-44a8-9ea8-fe71e031567a",
   "metadata": {},
   "outputs": [
    {
     "name": "stdout",
     "output_type": "stream",
     "text": [
      "objective: 13200.000\n",
      "status: OPTIMAL_SOLUTION(2)\n",
      "  x=100.000\n",
      "  y=600.000\n"
     ]
    }
   ],
   "source": [
    "model.print_solution()"
   ]
  },
  {
   "cell_type": "code",
   "execution_count": null,
   "id": "36a82423-6018-494f-9474-908eb7b9e92c",
   "metadata": {},
   "outputs": [],
   "source": []
  },
  {
   "cell_type": "code",
   "execution_count": 10,
   "id": "6ca9859d-eab0-44a0-962c-666e385f2fe7",
   "metadata": {},
   "outputs": [],
   "source": [
    "def read_line_of_ints(f):\n",
    "    return [int(x) for x in f.readline().split()]\n",
    "def read_instance(file_path: str):\n",
    "    with open(file_path, 'r') as f:\n",
    "        m, n = read_line_of_ints(f)\n",
    "        cost = [read_line_of_ints(f) for _ in range(m)]\n",
    "        facility_cost = read_line_of_ints(f)\n",
    "        return cost, facility_cost"
   ]
  },
  {
   "cell_type": "code",
   "execution_count": null,
   "id": "cf001ddb-0a95-461f-94a1-c8fd1834b78c",
   "metadata": {},
   "outputs": [],
   "source": []
  },
  {
   "cell_type": "markdown",
   "id": "86ed8ce7-cc7f-468b-992e-9a0e4d4bd090",
   "metadata": {},
   "source": [
    "# UFLP\n",
    "\n",
    "- skup korisnika I\n",
    "- skup resursa J\n",
    "- cena dodeljivanja korisnika i resursu j - $c_{ij}$\n",
    "- cena uspostavljanja resursa j - $f_j$\n",
    "\n",
    "$$min \\sum_{i \\in I} \\sum_{j \\in J} x_{ij} c_{ij}  + \\sum_{j \\in J} y_j f_j $$\n",
    "\n",
    "$$ \\sum_{j \\in J} x_{ij} = 1, \\forall i \\in I $$\n",
    "\n",
    "$$ x_{ij} \\leq y_j, \\forall i \\in I, \\forall j \\in J $$\n",
    "\n",
    "$$ x_{ij} \\in \\{0,1\\} $$\n",
    "\n",
    "$$ y_j \\in \\{0,1\\} $$"
   ]
  },
  {
   "cell_type": "code",
   "execution_count": 11,
   "id": "635bffb0-9760-45b8-ad9d-0d179a54f5fa",
   "metadata": {},
   "outputs": [
    {
     "name": "stdout",
     "output_type": "stream",
     "text": [
      "3 3\n"
     ]
    }
   ],
   "source": [
    "cost, facility_cost = read_instance('uflp1.txt')\n",
    "num_users = len(cost)\n",
    "num_facilities = len(facility_cost)\n",
    "print(num_users, num_facilities)"
   ]
  },
  {
   "cell_type": "code",
   "execution_count": 12,
   "id": "5acdaa23-c6d4-4ef8-9868-fa70a5a53810",
   "metadata": {},
   "outputs": [],
   "source": [
    "model = Model('uflp')"
   ]
  },
  {
   "cell_type": "code",
   "execution_count": 13,
   "id": "84fba184-7433-4857-bbf6-99b45fe783dd",
   "metadata": {},
   "outputs": [],
   "source": [
    "x = model.binary_var_matrix(num_users, num_facilities, name='x')"
   ]
  },
  {
   "cell_type": "code",
   "execution_count": 14,
   "id": "116508e2-b551-4186-b507-1fe187f5a5e3",
   "metadata": {},
   "outputs": [],
   "source": [
    "y = model.binary_var_list(num_facilities, name='y')"
   ]
  },
  {
   "cell_type": "code",
   "execution_count": 15,
   "id": "5dd092d6-4176-4115-897c-8c3973bc04e5",
   "metadata": {},
   "outputs": [],
   "source": [
    "for i in range(num_users):\n",
    "    model.add_constraint(sum(x[i,j] for j in range(num_facilities)) == 1)"
   ]
  },
  {
   "cell_type": "code",
   "execution_count": 16,
   "id": "4ede7c88-4666-494b-9afa-f47851758665",
   "metadata": {},
   "outputs": [],
   "source": [
    "for i in range(num_users):\n",
    "    for j in range(num_facilities):\n",
    "        model.add_constraint(x[i,j] <= y[j])"
   ]
  },
  {
   "cell_type": "code",
   "execution_count": 17,
   "id": "fb64de8d-3837-4678-8cee-30652a127a89",
   "metadata": {},
   "outputs": [
    {
     "name": "stdout",
     "output_type": "stream",
     "text": [
      "Model: uflp\n",
      " - number of variables: 12\n",
      "   - binary=12, integer=0, continuous=0\n",
      " - number of constraints: 12\n",
      "   - linear=12\n",
      " - parameters: defaults\n",
      " - objective: none\n",
      " - problem type is: MILP\n"
     ]
    }
   ],
   "source": [
    "model.print_information()"
   ]
  },
  {
   "cell_type": "code",
   "execution_count": 18,
   "id": "a3d03cde-da72-4c41-a2b5-21af8942e92a",
   "metadata": {},
   "outputs": [],
   "source": [
    "first_part = sum(y[j] * facility_cost[j] for j in range(num_facilities))\n",
    "second_part = sum(sum(x[i,j] * cost[i][j] for j in range(num_facilities)) for i in range(num_users))\n",
    "model.minimize(first_part + second_part)"
   ]
  },
  {
   "cell_type": "code",
   "execution_count": 19,
   "id": "10994969-8735-4320-80a7-07e6ab61a447",
   "metadata": {},
   "outputs": [
    {
     "name": "stdout",
     "output_type": "stream",
     "text": [
      "objective: 34\n",
      "status: OPTIMAL_SOLUTION(2)\n",
      "  x_0_0=1\n",
      "  x_1_0=1\n",
      "  x_2_0=1\n",
      "  y_0=1\n"
     ]
    }
   ],
   "source": [
    "solution = model.solve()\n",
    "model.print_solution()"
   ]
  },
  {
   "cell_type": "code",
   "execution_count": 20,
   "id": "634a167c-bbb2-4b89-b10d-add523079142",
   "metadata": {},
   "outputs": [
    {
     "name": "stdout",
     "output_type": "stream",
     "text": [
      "solution for: uflp\n",
      "objective: 34\n",
      "status: OPTIMAL_SOLUTION(2)\n",
      "x_0_0 = 1\n",
      "x_1_0 = 1\n",
      "x_2_0 = 1\n",
      "y_0 = 1\n"
     ]
    }
   ],
   "source": [
    "solution.display()"
   ]
  },
  {
   "cell_type": "code",
   "execution_count": null,
   "id": "f643547a-b72d-484a-bd6f-acad744d7d12",
   "metadata": {},
   "outputs": [],
   "source": []
  },
  {
   "cell_type": "markdown",
   "id": "ccd975ba-c7da-4385-b3f4-145677a38cad",
   "metadata": {},
   "source": [
    "# SSCFLP\n",
    "\n",
    "- skup korisnika I\n",
    "- skup resursa J\n",
    "- cena dodeljivanja korisnika i resursu j - $c_{ij}$\n",
    "- cena uspostavljanja resursa j - $f_j$\n",
    "\n",
    "dodatno:\n",
    "- svaki korisnik i ima potraznju - $d_i$\n",
    "- svaki resurs j ima kapacitet - $s_j$\n",
    "\n",
    "$$min \\sum_{i \\in I} \\sum_{j \\in J} x_{ij} c_{ij}  + \\sum_{j \\in J} y_j f_j $$\n",
    "\n",
    "$$ \\sum_{j \\in J} x_{ij} = 1, \\forall i \\in I $$\n",
    "\n",
    "$$ \\sum_{i \\in I} d_i x_{ij} \\leq s_j y_j, \\forall j \\in J $$"
   ]
  },
  {
   "cell_type": "code",
   "execution_count": 22,
   "id": "88b4a449-67f8-4743-9107-934862e3c6c6",
   "metadata": {},
   "outputs": [],
   "source": [
    "d = [3 for i in range(num_users)]\n",
    "s = [5 for j in range(num_facilities)]"
   ]
  },
  {
   "cell_type": "code",
   "execution_count": 23,
   "id": "356eb77c-f869-40ab-98b6-5c277bbcdcb0",
   "metadata": {},
   "outputs": [],
   "source": [
    "model = Model('sscflp')"
   ]
  },
  {
   "cell_type": "code",
   "execution_count": 25,
   "id": "ba37d8e4-4a91-456e-a07d-fbe45f6ce2ac",
   "metadata": {},
   "outputs": [],
   "source": [
    "x = model.binary_var_matrix(num_users, num_facilities, name='x')\n",
    "y = model.binary_var_list(num_facilities, name='y')"
   ]
  },
  {
   "cell_type": "code",
   "execution_count": 26,
   "id": "7c312d69-3e57-4cb7-8d9b-cc7d63c9cc32",
   "metadata": {},
   "outputs": [],
   "source": [
    "for i in range(num_users):\n",
    "    model.add_constraint(sum(x[i,j] for j in range(num_facilities)) == 1)"
   ]
  },
  {
   "cell_type": "code",
   "execution_count": 28,
   "id": "1dcc02f0-f3d3-4eae-bcca-b3eca5ae508d",
   "metadata": {},
   "outputs": [],
   "source": [
    "for j in range(num_facilities):\n",
    "    model.add_constraint(sum(x[i,j]*d[i] for i in range(num_users)) <= y[j]*s[j])"
   ]
  },
  {
   "cell_type": "code",
   "execution_count": 30,
   "id": "aef9b4d6-1a31-4726-a57e-ed168153157d",
   "metadata": {},
   "outputs": [],
   "source": [
    "first_part = sum(y[j] * facility_cost [j] for j in range(num_facilities))"
   ]
  },
  {
   "cell_type": "code",
   "execution_count": 31,
   "id": "0bfd14f2-5d1b-462b-b092-4d184d387c1f",
   "metadata": {},
   "outputs": [],
   "source": [
    "second_part = sum(sum(x[i,j] * cost[i][j] for j in range(num_facilities)) for i in range(num_users))"
   ]
  },
  {
   "cell_type": "code",
   "execution_count": 32,
   "id": "e608ae86-85a8-45a8-bfd7-2820c2b8dc30",
   "metadata": {},
   "outputs": [
    {
     "name": "stdout",
     "output_type": "stream",
     "text": [
      "Model: sscflp\n",
      " - number of variables: 12\n",
      "   - binary=12, integer=0, continuous=0\n",
      " - number of constraints: 6\n",
      "   - linear=6\n",
      " - parameters: defaults\n",
      " - objective: minimize\n",
      " - problem type is: MILP\n"
     ]
    }
   ],
   "source": [
    "model.minimize(first_part + second_part)\n",
    "model.print_information()"
   ]
  },
  {
   "cell_type": "code",
   "execution_count": 38,
   "id": "645f64a5-f3ad-4e9b-be96-35ca50a47727",
   "metadata": {},
   "outputs": [
    {
     "name": "stdout",
     "output_type": "stream",
     "text": [
      "objective: 51\n",
      "status: OPTIMAL_SOLUTION(2)\n",
      "  x_0_0=1\n",
      "  x_1_1=1\n",
      "  x_2_2=1\n",
      "  y_0=1\n",
      "  y_1=1\n",
      "  y_2=1\n"
     ]
    }
   ],
   "source": [
    "model.solve()\n",
    "model.print_solution()"
   ]
  },
  {
   "cell_type": "code",
   "execution_count": null,
   "id": "463ca4eb-843a-4b53-b755-6503592294b5",
   "metadata": {},
   "outputs": [],
   "source": []
  },
  {
   "cell_type": "markdown",
   "id": "74c5625c-014a-49e6-ba81-a4a537fa8373",
   "metadata": {},
   "source": [
    "# MSCFLP\n",
    "\n",
    "$$min \\sum_{i \\in I} \\sum_{j \\in J} x_{ij} c_{ij}  + \\sum_{j \\in J} y_j f_j $$\n",
    "\n",
    "$$ \\sum_{j \\in J} x_{ij} = 1, \\forall i \\in I $$\n",
    "\n",
    "$$ \\sum_{i \\in I} d_i x_{ij} \\leq s_j y_j, \\forall j \\in J $$"
   ]
  },
  {
   "cell_type": "code",
   "execution_count": 39,
   "id": "f84f52fa-506f-40df-b5ed-dc6c5a46a1eb",
   "metadata": {},
   "outputs": [],
   "source": [
    "model = Model('mscflp')"
   ]
  },
  {
   "cell_type": "code",
   "execution_count": 40,
   "id": "b0c04e07-e99e-421e-b9f8-a42cad28336e",
   "metadata": {},
   "outputs": [],
   "source": [
    "x = model.continuous_var_matrix(num_users, num_facilities, name='x', lb=0, ub=1)\n",
    "y = model.binary_var_list(num_facilities, name='y')"
   ]
  },
  {
   "cell_type": "code",
   "execution_count": 41,
   "id": "12a9e029-88df-4584-b82c-7437150c63ae",
   "metadata": {},
   "outputs": [],
   "source": [
    "for j in range(num_facilities):\n",
    "    model.add_constraint(sum(x[i,j]*d[i] for i in range(num_users)) <= y[j] * s[j])"
   ]
  },
  {
   "cell_type": "code",
   "execution_count": 42,
   "id": "551d1adc-bc1a-491d-b725-907364e28034",
   "metadata": {},
   "outputs": [],
   "source": [
    "for i in range(num_users):\n",
    "    model.add_constraint(sum(x[i,j] for j in range(num_facilities)) == 1)"
   ]
  },
  {
   "cell_type": "code",
   "execution_count": 43,
   "id": "563d178f-d364-423c-9c47-907edcb04e49",
   "metadata": {},
   "outputs": [],
   "source": [
    "first_part = sum(y[j] * facility_cost [j] for j in range(num_facilities))\n",
    "second_part = sum(sum(x[i,j] * cost[i][j] for j in range(num_facilities)) for i in range(num_users))"
   ]
  },
  {
   "cell_type": "code",
   "execution_count": 44,
   "id": "37f91614-3a6b-4981-b89c-80a101d8bcb2",
   "metadata": {},
   "outputs": [
    {
     "name": "stdout",
     "output_type": "stream",
     "text": [
      "Model: mscflp\n",
      " - number of variables: 12\n",
      "   - binary=3, integer=0, continuous=9\n",
      " - number of constraints: 6\n",
      "   - linear=6\n",
      " - parameters: defaults\n",
      " - objective: minimize\n",
      " - problem type is: MILP\n"
     ]
    }
   ],
   "source": [
    "model.minimize(first_part + second_part)\n",
    "model.print_information()"
   ]
  },
  {
   "cell_type": "code",
   "execution_count": 45,
   "id": "a1ca43be-7192-42bc-ab5b-504489b05e58",
   "metadata": {},
   "outputs": [
    {
     "name": "stdout",
     "output_type": "stream",
     "text": [
      "objective: 35.667\n",
      "status: OPTIMAL_SOLUTION(2)\n",
      "  x_0_0=0.667\n",
      "  x_0_2=0.333\n",
      "  x_1_0=1.000\n",
      "  x_2_2=1.000\n",
      "  y_0=1\n",
      "  y_2=1\n"
     ]
    }
   ],
   "source": [
    "model.solve()\n",
    "model.print_solution()"
   ]
  },
  {
   "cell_type": "code",
   "execution_count": null,
   "id": "bd5f68ef-5361-4b8a-83ed-e330666b997a",
   "metadata": {},
   "outputs": [],
   "source": []
  },
  {
   "cell_type": "code",
   "execution_count": 46,
   "id": "2beed880-1be2-4bf9-86a9-fa30cb2a0c2c",
   "metadata": {},
   "outputs": [],
   "source": [
    "import numpy as np\n",
    "from scipy.optimize import linprog"
   ]
  },
  {
   "cell_type": "markdown",
   "id": "a64e35c7-a04c-4db2-886f-fa67569dcef4",
   "metadata": {
    "jp-MarkdownHeadingCollapsed": true
   },
   "source": [
    "Data je funkcija $f$:\n",
    "$$f(x_1, x_2) = 3x_1 + 4x_2$$"
   ]
  },
  {
   "cell_type": "markdown",
   "id": "e9f287ce-748b-480c-a55f-bd1e136e7c67",
   "metadata": {},
   "source": [
    "Pronaci minimum funkcije $f$ ako za nepoznate $x_1$ i $x_2$ vazi:\n",
    "$$ x_1 + 2x_2 \\leq 14 $$\n",
    "$$ x_2 \\leq 3x_1 $$\n",
    "$$ x_1 - x_2 \\leq 2 $$"
   ]
  },
  {
   "cell_type": "code",
   "execution_count": 48,
   "id": "e7e88fdd-9842-452a-9989-ac239107d9a4",
   "metadata": {},
   "outputs": [
    {
     "data": {
      "text/plain": [
       "       message: Optimization terminated successfully. (HiGHS Status 7: Optimal)\n",
       "       success: True\n",
       "        status: 0\n",
       "           fun: 0.0\n",
       "             x: [ 0.000e+00  0.000e+00]\n",
       "           nit: 0\n",
       "         lower:  residual: [ 0.000e+00  0.000e+00]\n",
       "                marginals: [ 3.000e+00  4.000e+00]\n",
       "         upper:  residual: [       inf        inf]\n",
       "                marginals: [ 0.000e+00  0.000e+00]\n",
       "         eqlin:  residual: []\n",
       "                marginals: []\n",
       "       ineqlin:  residual: [ 1.400e+01  0.000e+00  2.000e+00]\n",
       "                marginals: [-0.000e+00 -0.000e+00 -0.000e+00]"
      ]
     },
     "execution_count": 48,
     "metadata": {},
     "output_type": "execute_result"
    }
   ],
   "source": [
    "c = np.array([3,4])\n",
    "\n",
    "A_ub = np.array([[1,2],\n",
    "                 [-3,1],\n",
    "                 [1,-1]])\n",
    "\n",
    "b_ub = np.array([14,0,2])\n",
    "\n",
    "linprog(c, A_ub, b_ub)"
   ]
  },
  {
   "cell_type": "code",
   "execution_count": null,
   "id": "44e739ed-d44f-40e8-a5dd-3febfa7c2442",
   "metadata": {},
   "outputs": [],
   "source": []
  },
  {
   "cell_type": "code",
   "execution_count": 49,
   "id": "8fb3d4c8-2bb7-48b2-8444-dfb1698585c3",
   "metadata": {},
   "outputs": [],
   "source": [
    "from scipy.optimize import minimize"
   ]
  },
  {
   "cell_type": "markdown",
   "id": "fe046064-d0a4-4991-8f0d-da1899e6ab49",
   "metadata": {},
   "source": [
    "Data je funkcija $f$:\n",
    "$$ f(x, y) = 2xy + 2x - x^2 - y^2 $$"
   ]
  },
  {
   "cell_type": "markdown",
   "id": "825e25d1-fe2b-4168-b1d6-161ae68cafa9",
   "metadata": {},
   "source": [
    "Data su ogranicenja:$$ g_1(x, y) = x ^3 - y = 0 $$\n",
    "$$ g_2(x, y) = y - 1 >= 0 $$"
   ]
  },
  {
   "cell_type": "code",
   "execution_count": 51,
   "id": "eedbd753-055c-4d42-bba2-c3224dabea17",
   "metadata": {},
   "outputs": [
    {
     "data": {
      "text/plain": [
       " message: Inequality constraints incompatible\n",
       " success: False\n",
       "  status: 4\n",
       "     fun: -1.2343347710458472e+284\n",
       "       x: [ 6.482e+50  1.111e+142]\n",
       "     nit: 21\n",
       "     jac: [ 0.000e+00 -2.222e+142]\n",
       "    nfev: 63\n",
       "    njev: 21"
      ]
     },
     "execution_count": 51,
     "metadata": {},
     "output_type": "execute_result"
    }
   ],
   "source": [
    "def f(x):\n",
    "    return 2*x[0]*x[1] + 2*x[0] - x[0]**2 - x[1]**2\n",
    "c = [\n",
    "    {\n",
    "        'type': 'eq',\n",
    "        'fun': lambda x: x[0]**3 - x[1],\n",
    "        'jac': lambda x: np.array([3*x[0]**2, -1])\n",
    "    },\n",
    "    {\n",
    "        'type': 'ineq',\n",
    "        'fun': lambda x: x[1] - 1,\n",
    "        'jac': lambda x: np.array([0, 1])\n",
    "    }\n",
    "]\n",
    "minimize(f, x0=(2,4), constraints=c, method='SLSQP')"
   ]
  },
  {
   "cell_type": "code",
   "execution_count": null,
   "id": "2b335eb0-1981-43c8-877b-97921c3a573d",
   "metadata": {},
   "outputs": [],
   "source": []
  }
 ],
 "metadata": {
  "kernelspec": {
   "display_name": "Python 3 (ipykernel)",
   "language": "python",
   "name": "python3"
  },
  "language_info": {
   "codemirror_mode": {
    "name": "ipython",
    "version": 3
   },
   "file_extension": ".py",
   "mimetype": "text/x-python",
   "name": "python",
   "nbconvert_exporter": "python",
   "pygments_lexer": "ipython3",
   "version": "3.10.0"
  }
 },
 "nbformat": 4,
 "nbformat_minor": 5
}
