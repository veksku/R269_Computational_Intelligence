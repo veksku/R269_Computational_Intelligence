{
 "cells": [
  {
   "cell_type": "code",
   "execution_count": null,
   "id": "88d21bdd-d4ff-4881-abfd-c007ba7efbbb",
   "metadata": {},
   "outputs": [],
   "source": [
    "def local_search_invert_first_improvement(iters, target): #nabada ga sve dok naidje na neko resenje koje je lose\n",
    "    solution = initialize(len(target))\n",
    "    value = calcSolutionValue(new_solution, cost, facility_cost)\n",
    "    improved = True\n",
    "    while improved:\n",
    "        improved = False\n",
    "        unbiased_order = list(range(len(solution)))\n",
    "        random.shuffle(unbiased_order)\n",
    "        for i in unbiased_order:\n",
    "            new_solution[i] = not new_solution[i]\n",
    "            new_value = calcSolutionValue(new_solution, cost, facility_cost)\n",
    "            if new_value < value:\n",
    "                value = new_value\n",
    "                improved = True\n",
    "                break\n",
    "            else:\n",
    "                new_solution[i] = not new_solution[i]\n",
    "    return new_solution, value"
   ]
  },
  {
   "cell_type": "code",
   "execution_count": null,
   "id": "3371a857-72f6-4b5a-96d8-b749b8156fa7",
   "metadata": {},
   "outputs": [],
   "source": [
    "def local_search_invert_best_improvement(iters, target): #nadji najvece poboljsanje i zapamti ga\n",
    "    solution = initialize(len(target))\n",
    "    value = calcSolutionValue(new_solution, cost, facility_cost)\n",
    "    improved = True\n",
    "    while improved:\n",
    "        improved = False\n",
    "        best_i = None\n",
    "        best_value = value\n",
    "        for i in range(len(solution)):\n",
    "            solution[i] = not solution[i]\n",
    "            new_value = calc_solution_value(solution, cost, facility_cost)\n",
    "            if new_value < best_value:\n",
    "                best_value = new_value\n",
    "                improved = True\n",
    "                best_i = i\n",
    "            solution[i] = not solution[i]\n",
    "        if improved:\n",
    "            solution[best_i] = not solution[best_i]\n",
    "            print(solution)\n",
    "            value = best_value\n",
    "    return solution, value"
   ]
  }
 ],
 "metadata": {
  "kernelspec": {
   "display_name": "Python 3 (ipykernel)",
   "language": "python",
   "name": "python3"
  },
  "language_info": {
   "codemirror_mode": {
    "name": "ipython",
    "version": 3
   },
   "file_extension": ".py",
   "mimetype": "text/x-python",
   "name": "python",
   "nbconvert_exporter": "python",
   "pygments_lexer": "ipython3",
   "version": "3.10.0"
  }
 },
 "nbformat": 4,
 "nbformat_minor": 5
}
