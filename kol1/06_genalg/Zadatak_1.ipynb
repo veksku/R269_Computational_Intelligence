{
 "cells": [
  {
   "cell_type": "markdown",
   "metadata": {},
   "source": [
    "### Zadatak 1.\n",
    "\n",
    "Implementirati genetski algoritam za resavanje problema \"Zbir podskupa\".\n",
    "\n",
    "Definicija problema: Za zadati niz brojeva i jedan ciljni broj, odrediti da li postoji neprazan podskup datog niza cija suma je ciljni broj.\n",
    "\n",
    "Primer: \n",
    "    \n",
    "    niz: [6, 2, -4, 23, 56, 8, 3]\n",
    "    \n",
    "    ciljni broj: 34\n",
    "    \n",
    "    resenje: [23, 8, 3]"
   ]
  },
  {
   "cell_type": "code",
   "execution_count": 1,
   "metadata": {},
   "outputs": [],
   "source": [
    "import random\n",
    "from copy import deepcopy"
   ]
  },
  {
   "cell_type": "code",
   "execution_count": 2,
   "metadata": {},
   "outputs": [],
   "source": [
    "array = [6, 2, -4, 23, 56, 8, 3]\n",
    "target = 34"
   ]
  },
  {
   "cell_type": "code",
   "execution_count": 3,
   "metadata": {},
   "outputs": [],
   "source": [
    "class Individual():\n",
    "    \n",
    "    def __init__(self, array, target):\n",
    "        self.array = array.copy()\n",
    "        self.target = target\n",
    "        self.code = self.initialize(len(array))\n",
    "        self.fitness = self.calculateFitness()\n",
    "    \n",
    "    def initialize(self, n):\n",
    "        num = random.randrange(1, n+1)\n",
    "        if num == n:\n",
    "            return [1 for _ in range(n)]\n",
    "        else:\n",
    "            return [random.random() < num/n for _ in range(n)]\n",
    "                \n",
    "    # Sort ce pozvati ovaj metod za poredjenje, ukoliko koristite sort :)\n",
    "    def __lt__(self, other):\n",
    "        return self.fitness < other.fitness\n",
    "        \n",
    "    def invert(self):\n",
    "        index = int(random.random() * len(self.code))\n",
    "        if self.code[index] == 0:\n",
    "            self.code[index] = 1\n",
    "        else:\n",
    "            self.code[index] = 0\n",
    "        return\n",
    "        \n",
    "    def calculateFitness(self):\n",
    "        total = 0\n",
    "        n = len(self.code)\n",
    "        for i in range(n):\n",
    "            total += self.array[i]*self.code[i]\n",
    "        return abs(total - target)"
   ]
  },
  {
   "cell_type": "markdown",
   "metadata": {},
   "source": [
    "Implementirati turnirsku selekciju"
   ]
  },
  {
   "cell_type": "code",
   "execution_count": 4,
   "metadata": {},
   "outputs": [],
   "source": [
    "# def selection(population, size):\n",
    "#     participants = random.sample(population, size)\n",
    "#     winner = min(participants)\n",
    "#     return winner\n",
    "\n",
    "def selection(population, size):\n",
    "    pop_fitness = sum([unit.fitness for unit in population])\n",
    "    unit_probs = [unit.fitness/pop_fitness for unit in ]"
   ]
  },
  {
   "cell_type": "markdown",
   "metadata": {},
   "source": [
    "Implementirati jednopoziciono ukrstanje"
   ]
  },
  {
   "cell_type": "code",
   "execution_count": 5,
   "metadata": {},
   "outputs": [],
   "source": [
    "def crossover(parent1, parent2, child1, child2):\n",
    "    n = len(parent1.code)\n",
    "    index = int(random.random() * n)\n",
    "\n",
    "    child1.code[:index] = parent1.code[:index]\n",
    "    child2.code[:index] = parent2.code[:index]\n",
    "\n",
    "    child1.code[index:] = parent2.code[index:]\n",
    "    child2.code[index:] = parent1.code[index:]\n",
    "\n",
    "    return "
   ]
  },
  {
   "cell_type": "code",
   "execution_count": 6,
   "metadata": {},
   "outputs": [],
   "source": [
    "def mutation(individual, probability):\n",
    "    if random.random() < probability:\n",
    "        individual.invert()\n",
    "    return"
   ]
  },
  {
   "cell_type": "markdown",
   "metadata": {},
   "source": [
    "Implementirati elitizam velicine 30% populacije"
   ]
  },
  {
   "cell_type": "code",
   "execution_count": 7,
   "metadata": {},
   "outputs": [],
   "source": [
    "POPULATION_SIZE = 100\n",
    "SELECTION_SIZE = 6\n",
    "MUTATION_PROB = 0.05\n",
    "population = None\n",
    "newPopulation = None\n",
    "\n",
    "ELITISM_SIZE = int(0.3*POPULATION_SIZE)\n",
    "MAX_ITER = 500\n",
    "\n",
    "def ga(pop_size, sel_size, mut_prob, eli_size, max_iter, target):\n",
    "    if (pop_size - eli_size) % 2 == 1:\n",
    "        eli_size -= 1\n",
    "\n",
    "    population = [Individual(array, target) for _ in range(pop_size)]\n",
    "    new_population = [Individual(array, target) for _ in range(pop_size)]\n",
    "\n",
    "    for iteration in range(max_iter):\n",
    "        population.sort(reverse=False)\n",
    "\n",
    "        if population[0].fitness == 0:\n",
    "            break\n",
    "\n",
    "        new_population[:eli_size] = population[:eli_size]\n",
    "        for i in range(eli_size, pop_size, 2):\n",
    "            parent1 = selection(population, sel_size)\n",
    "            parent2 = selection(population, sel_size)\n",
    "            \n",
    "            crossover(parent1, parent2, new_population[i], new_population[i+1])\n",
    "\n",
    "            mutation(new_population[i], mut_prob)\n",
    "            mutation(new_population[i+1], mut_prob)\n",
    "\n",
    "            new_population[i].fitness = new_population[i].calculateFitness()\n",
    "            new_population[i+1].fitness = new_population[i+1].calculateFitness()\n",
    "\n",
    "        population = deepcopy(new_population)\n",
    "    best = min(population)\n",
    "\n",
    "    return best.code\n",
    "\n",
    "bestIndividual = None"
   ]
  },
  {
   "cell_type": "code",
   "execution_count": 8,
   "metadata": {},
   "outputs": [],
   "source": [
    "code = ga(POPULATION_SIZE, SELECTION_SIZE, MUTATION_PROB, ELITISM_SIZE, MAX_ITER, target)"
   ]
  },
  {
   "cell_type": "code",
   "execution_count": 9,
   "metadata": {},
   "outputs": [
    {
     "data": {
      "text/plain": [
       "[6, -4, 23, 8]"
      ]
     },
     "execution_count": 9,
     "metadata": {},
     "output_type": "execute_result"
    }
   ],
   "source": [
    "n = len(code)\n",
    "solution = []\n",
    "for i in range(n):\n",
    "    if code[i]:\n",
    "        solution.append(code[i]*array[i])\n",
    "\n",
    "solution"
   ]
  }
 ],
 "metadata": {
  "kernelspec": {
   "display_name": "Python 3 (ipykernel)",
   "language": "python",
   "name": "python3"
  },
  "language_info": {
   "codemirror_mode": {
    "name": "ipython",
    "version": 3
   },
   "file_extension": ".py",
   "mimetype": "text/x-python",
   "name": "python",
   "nbconvert_exporter": "python",
   "pygments_lexer": "ipython3",
   "version": "3.10.0"
  }
 },
 "nbformat": 4,
 "nbformat_minor": 4
}
